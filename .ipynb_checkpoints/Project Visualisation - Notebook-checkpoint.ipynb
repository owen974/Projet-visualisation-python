{
 "cells": [
  {
   "cell_type": "markdown",
   "id": "ec87f614",
   "metadata": {},
   "source": [
    "## Estimation of obesity levels based on eating habits and physical condition"
   ]
  },
  {
   "cell_type": "markdown",
   "id": "d3987fd4",
   "metadata": {},
   "source": [
    "### Import dataset"
   ]
  },
  {
   "cell_type": "code",
   "execution_count": 2,
   "id": "5954383a",
   "metadata": {},
   "outputs": [
    {
     "data": {
      "text/html": [
       "<div>\n",
       "<style scoped>\n",
       "    .dataframe tbody tr th:only-of-type {\n",
       "        vertical-align: middle;\n",
       "    }\n",
       "\n",
       "    .dataframe tbody tr th {\n",
       "        vertical-align: top;\n",
       "    }\n",
       "\n",
       "    .dataframe thead th {\n",
       "        text-align: right;\n",
       "    }\n",
       "</style>\n",
       "<table border=\"1\" class=\"dataframe\">\n",
       "  <thead>\n",
       "    <tr style=\"text-align: right;\">\n",
       "      <th></th>\n",
       "      <th>Gender</th>\n",
       "      <th>Age</th>\n",
       "      <th>Height</th>\n",
       "      <th>Weight</th>\n",
       "      <th>family_history_with_overweight</th>\n",
       "      <th>FAVC</th>\n",
       "      <th>FCVC</th>\n",
       "      <th>NCP</th>\n",
       "      <th>CAEC</th>\n",
       "      <th>SMOKE</th>\n",
       "      <th>CH2O</th>\n",
       "      <th>SCC</th>\n",
       "      <th>FAF</th>\n",
       "      <th>TUE</th>\n",
       "      <th>CALC</th>\n",
       "      <th>MTRANS</th>\n",
       "      <th>NObeyesdad</th>\n",
       "    </tr>\n",
       "  </thead>\n",
       "  <tbody>\n",
       "    <tr>\n",
       "      <th>0</th>\n",
       "      <td>Female</td>\n",
       "      <td>21.000000</td>\n",
       "      <td>1.620000</td>\n",
       "      <td>64.000000</td>\n",
       "      <td>yes</td>\n",
       "      <td>no</td>\n",
       "      <td>2.0</td>\n",
       "      <td>3.0</td>\n",
       "      <td>Sometimes</td>\n",
       "      <td>no</td>\n",
       "      <td>2.000000</td>\n",
       "      <td>no</td>\n",
       "      <td>0.000000</td>\n",
       "      <td>1.000000</td>\n",
       "      <td>no</td>\n",
       "      <td>Public_Transportation</td>\n",
       "      <td>Normal_Weight</td>\n",
       "    </tr>\n",
       "    <tr>\n",
       "      <th>1</th>\n",
       "      <td>Female</td>\n",
       "      <td>21.000000</td>\n",
       "      <td>1.520000</td>\n",
       "      <td>56.000000</td>\n",
       "      <td>yes</td>\n",
       "      <td>no</td>\n",
       "      <td>3.0</td>\n",
       "      <td>3.0</td>\n",
       "      <td>Sometimes</td>\n",
       "      <td>yes</td>\n",
       "      <td>3.000000</td>\n",
       "      <td>yes</td>\n",
       "      <td>3.000000</td>\n",
       "      <td>0.000000</td>\n",
       "      <td>Sometimes</td>\n",
       "      <td>Public_Transportation</td>\n",
       "      <td>Normal_Weight</td>\n",
       "    </tr>\n",
       "    <tr>\n",
       "      <th>2</th>\n",
       "      <td>Male</td>\n",
       "      <td>23.000000</td>\n",
       "      <td>1.800000</td>\n",
       "      <td>77.000000</td>\n",
       "      <td>yes</td>\n",
       "      <td>no</td>\n",
       "      <td>2.0</td>\n",
       "      <td>3.0</td>\n",
       "      <td>Sometimes</td>\n",
       "      <td>no</td>\n",
       "      <td>2.000000</td>\n",
       "      <td>no</td>\n",
       "      <td>2.000000</td>\n",
       "      <td>1.000000</td>\n",
       "      <td>Frequently</td>\n",
       "      <td>Public_Transportation</td>\n",
       "      <td>Normal_Weight</td>\n",
       "    </tr>\n",
       "    <tr>\n",
       "      <th>3</th>\n",
       "      <td>Male</td>\n",
       "      <td>27.000000</td>\n",
       "      <td>1.800000</td>\n",
       "      <td>87.000000</td>\n",
       "      <td>no</td>\n",
       "      <td>no</td>\n",
       "      <td>3.0</td>\n",
       "      <td>3.0</td>\n",
       "      <td>Sometimes</td>\n",
       "      <td>no</td>\n",
       "      <td>2.000000</td>\n",
       "      <td>no</td>\n",
       "      <td>2.000000</td>\n",
       "      <td>0.000000</td>\n",
       "      <td>Frequently</td>\n",
       "      <td>Walking</td>\n",
       "      <td>Overweight_Level_I</td>\n",
       "    </tr>\n",
       "    <tr>\n",
       "      <th>4</th>\n",
       "      <td>Male</td>\n",
       "      <td>22.000000</td>\n",
       "      <td>1.780000</td>\n",
       "      <td>89.800000</td>\n",
       "      <td>no</td>\n",
       "      <td>no</td>\n",
       "      <td>2.0</td>\n",
       "      <td>1.0</td>\n",
       "      <td>Sometimes</td>\n",
       "      <td>no</td>\n",
       "      <td>2.000000</td>\n",
       "      <td>no</td>\n",
       "      <td>0.000000</td>\n",
       "      <td>0.000000</td>\n",
       "      <td>Sometimes</td>\n",
       "      <td>Public_Transportation</td>\n",
       "      <td>Overweight_Level_II</td>\n",
       "    </tr>\n",
       "    <tr>\n",
       "      <th>...</th>\n",
       "      <td>...</td>\n",
       "      <td>...</td>\n",
       "      <td>...</td>\n",
       "      <td>...</td>\n",
       "      <td>...</td>\n",
       "      <td>...</td>\n",
       "      <td>...</td>\n",
       "      <td>...</td>\n",
       "      <td>...</td>\n",
       "      <td>...</td>\n",
       "      <td>...</td>\n",
       "      <td>...</td>\n",
       "      <td>...</td>\n",
       "      <td>...</td>\n",
       "      <td>...</td>\n",
       "      <td>...</td>\n",
       "      <td>...</td>\n",
       "    </tr>\n",
       "    <tr>\n",
       "      <th>2106</th>\n",
       "      <td>Female</td>\n",
       "      <td>20.976842</td>\n",
       "      <td>1.710730</td>\n",
       "      <td>131.408528</td>\n",
       "      <td>yes</td>\n",
       "      <td>yes</td>\n",
       "      <td>3.0</td>\n",
       "      <td>3.0</td>\n",
       "      <td>Sometimes</td>\n",
       "      <td>no</td>\n",
       "      <td>1.728139</td>\n",
       "      <td>no</td>\n",
       "      <td>1.676269</td>\n",
       "      <td>0.906247</td>\n",
       "      <td>Sometimes</td>\n",
       "      <td>Public_Transportation</td>\n",
       "      <td>Obesity_Type_III</td>\n",
       "    </tr>\n",
       "    <tr>\n",
       "      <th>2107</th>\n",
       "      <td>Female</td>\n",
       "      <td>21.982942</td>\n",
       "      <td>1.748584</td>\n",
       "      <td>133.742943</td>\n",
       "      <td>yes</td>\n",
       "      <td>yes</td>\n",
       "      <td>3.0</td>\n",
       "      <td>3.0</td>\n",
       "      <td>Sometimes</td>\n",
       "      <td>no</td>\n",
       "      <td>2.005130</td>\n",
       "      <td>no</td>\n",
       "      <td>1.341390</td>\n",
       "      <td>0.599270</td>\n",
       "      <td>Sometimes</td>\n",
       "      <td>Public_Transportation</td>\n",
       "      <td>Obesity_Type_III</td>\n",
       "    </tr>\n",
       "    <tr>\n",
       "      <th>2108</th>\n",
       "      <td>Female</td>\n",
       "      <td>22.524036</td>\n",
       "      <td>1.752206</td>\n",
       "      <td>133.689352</td>\n",
       "      <td>yes</td>\n",
       "      <td>yes</td>\n",
       "      <td>3.0</td>\n",
       "      <td>3.0</td>\n",
       "      <td>Sometimes</td>\n",
       "      <td>no</td>\n",
       "      <td>2.054193</td>\n",
       "      <td>no</td>\n",
       "      <td>1.414209</td>\n",
       "      <td>0.646288</td>\n",
       "      <td>Sometimes</td>\n",
       "      <td>Public_Transportation</td>\n",
       "      <td>Obesity_Type_III</td>\n",
       "    </tr>\n",
       "    <tr>\n",
       "      <th>2109</th>\n",
       "      <td>Female</td>\n",
       "      <td>24.361936</td>\n",
       "      <td>1.739450</td>\n",
       "      <td>133.346641</td>\n",
       "      <td>yes</td>\n",
       "      <td>yes</td>\n",
       "      <td>3.0</td>\n",
       "      <td>3.0</td>\n",
       "      <td>Sometimes</td>\n",
       "      <td>no</td>\n",
       "      <td>2.852339</td>\n",
       "      <td>no</td>\n",
       "      <td>1.139107</td>\n",
       "      <td>0.586035</td>\n",
       "      <td>Sometimes</td>\n",
       "      <td>Public_Transportation</td>\n",
       "      <td>Obesity_Type_III</td>\n",
       "    </tr>\n",
       "    <tr>\n",
       "      <th>2110</th>\n",
       "      <td>Female</td>\n",
       "      <td>23.664709</td>\n",
       "      <td>1.738836</td>\n",
       "      <td>133.472641</td>\n",
       "      <td>yes</td>\n",
       "      <td>yes</td>\n",
       "      <td>3.0</td>\n",
       "      <td>3.0</td>\n",
       "      <td>Sometimes</td>\n",
       "      <td>no</td>\n",
       "      <td>2.863513</td>\n",
       "      <td>no</td>\n",
       "      <td>1.026452</td>\n",
       "      <td>0.714137</td>\n",
       "      <td>Sometimes</td>\n",
       "      <td>Public_Transportation</td>\n",
       "      <td>Obesity_Type_III</td>\n",
       "    </tr>\n",
       "  </tbody>\n",
       "</table>\n",
       "<p>2111 rows × 17 columns</p>\n",
       "</div>"
      ],
      "text/plain": [
       "      Gender        Age    Height      Weight family_history_with_overweight  \\\n",
       "0     Female  21.000000  1.620000   64.000000                            yes   \n",
       "1     Female  21.000000  1.520000   56.000000                            yes   \n",
       "2       Male  23.000000  1.800000   77.000000                            yes   \n",
       "3       Male  27.000000  1.800000   87.000000                             no   \n",
       "4       Male  22.000000  1.780000   89.800000                             no   \n",
       "...      ...        ...       ...         ...                            ...   \n",
       "2106  Female  20.976842  1.710730  131.408528                            yes   \n",
       "2107  Female  21.982942  1.748584  133.742943                            yes   \n",
       "2108  Female  22.524036  1.752206  133.689352                            yes   \n",
       "2109  Female  24.361936  1.739450  133.346641                            yes   \n",
       "2110  Female  23.664709  1.738836  133.472641                            yes   \n",
       "\n",
       "     FAVC  FCVC  NCP       CAEC SMOKE      CH2O  SCC       FAF       TUE  \\\n",
       "0      no   2.0  3.0  Sometimes    no  2.000000   no  0.000000  1.000000   \n",
       "1      no   3.0  3.0  Sometimes   yes  3.000000  yes  3.000000  0.000000   \n",
       "2      no   2.0  3.0  Sometimes    no  2.000000   no  2.000000  1.000000   \n",
       "3      no   3.0  3.0  Sometimes    no  2.000000   no  2.000000  0.000000   \n",
       "4      no   2.0  1.0  Sometimes    no  2.000000   no  0.000000  0.000000   \n",
       "...   ...   ...  ...        ...   ...       ...  ...       ...       ...   \n",
       "2106  yes   3.0  3.0  Sometimes    no  1.728139   no  1.676269  0.906247   \n",
       "2107  yes   3.0  3.0  Sometimes    no  2.005130   no  1.341390  0.599270   \n",
       "2108  yes   3.0  3.0  Sometimes    no  2.054193   no  1.414209  0.646288   \n",
       "2109  yes   3.0  3.0  Sometimes    no  2.852339   no  1.139107  0.586035   \n",
       "2110  yes   3.0  3.0  Sometimes    no  2.863513   no  1.026452  0.714137   \n",
       "\n",
       "            CALC                 MTRANS           NObeyesdad  \n",
       "0             no  Public_Transportation        Normal_Weight  \n",
       "1      Sometimes  Public_Transportation        Normal_Weight  \n",
       "2     Frequently  Public_Transportation        Normal_Weight  \n",
       "3     Frequently                Walking   Overweight_Level_I  \n",
       "4      Sometimes  Public_Transportation  Overweight_Level_II  \n",
       "...          ...                    ...                  ...  \n",
       "2106   Sometimes  Public_Transportation     Obesity_Type_III  \n",
       "2107   Sometimes  Public_Transportation     Obesity_Type_III  \n",
       "2108   Sometimes  Public_Transportation     Obesity_Type_III  \n",
       "2109   Sometimes  Public_Transportation     Obesity_Type_III  \n",
       "2110   Sometimes  Public_Transportation     Obesity_Type_III  \n",
       "\n",
       "[2111 rows x 17 columns]"
      ]
     },
     "execution_count": 2,
     "metadata": {},
     "output_type": "execute_result"
    }
   ],
   "source": [
    "import pandas as pd\n",
    "df0=pd.read_csv('ObesityDataSet_raw_and_data_sinthetic.csv')\n",
    "df0"
   ]
  },
  {
   "cell_type": "markdown",
   "id": "9bd762ec",
   "metadata": {},
   "source": [
    "### Renaming columns"
   ]
  },
  {
   "cell_type": "code",
   "execution_count": 91,
   "id": "221dfb95",
   "metadata": {},
   "outputs": [],
   "source": [
    "df1=pd.read_csv('ObesityDataSet_raw_and_data_sinthetic.csv')\n",
    "df1 = df1.rename(columns={'FAVC': 'frequent_cons_high_caloric_food', 'FCVC': 'frequency_cons_veg', \n",
    "                           'NCP': 'nb_main_meal', 'CAEC': 'cons_between_meal', \n",
    "                           'SCC': 'Suivi_calories', 'FAF': 'frequency_phys_act', \n",
    "                           'TUE': 'time_tech', 'CALC': 'cons_alcohol'})"
   ]
  },
  {
   "cell_type": "markdown",
   "id": "f9fbcf4b",
   "metadata": {},
   "source": [
    "### Converting qualitative values into numerical values"
   ]
  },
  {
   "cell_type": "code",
   "execution_count": 92,
   "id": "eba74346",
   "metadata": {},
   "outputs": [],
   "source": [
    "df1['Gender'] = df1['Gender'].replace(['Male','Female'],[0,1])\n",
    "df1['family_history_with_overweight'] = df1['family_history_with_overweight'].replace(['yes','no'],[1,0])\n",
    "df1['frequent_cons_high_caloric_food'] = df1['frequent_cons_high_caloric_food'].replace(['yes','no'],[1,0])\n",
    "df1['cons_between_meal'] = df1['cons_between_meal'].replace(['no','Sometimes','Frequently','Always'],[0,1,2,3])\n",
    "df1['SMOKE'] = df1['SMOKE'].replace(['yes','no'],[1,0])\n",
    "df1['Suivi_calories'] = df1['Suivi_calories'].replace(['yes','no'],[1,0])\n",
    "df1['MTRANS'] = df1['MTRANS'].map({'Public_Transportation':0,\n",
    "                             'Walking':1,'Automobile':2,\n",
    "                             'Motorbike':3,'Bike':4},na_action=None)\n",
    "df1['cons_alcohol'] = df1['cons_alcohol'].map({'no':0,\n",
    "                             'Sometimes':1,'Frequently':2,\n",
    "                             'Always':3},na_action=None)"
   ]
  },
  {
   "cell_type": "code",
   "execution_count": 93,
   "id": "db5f94e5",
   "metadata": {},
   "outputs": [
    {
     "data": {
      "text/html": [
       "<div>\n",
       "<style scoped>\n",
       "    .dataframe tbody tr th:only-of-type {\n",
       "        vertical-align: middle;\n",
       "    }\n",
       "\n",
       "    .dataframe tbody tr th {\n",
       "        vertical-align: top;\n",
       "    }\n",
       "\n",
       "    .dataframe thead th {\n",
       "        text-align: right;\n",
       "    }\n",
       "</style>\n",
       "<table border=\"1\" class=\"dataframe\">\n",
       "  <thead>\n",
       "    <tr style=\"text-align: right;\">\n",
       "      <th></th>\n",
       "      <th>Gender</th>\n",
       "      <th>Age</th>\n",
       "      <th>Height</th>\n",
       "      <th>Weight</th>\n",
       "      <th>family_history_with_overweight</th>\n",
       "      <th>frequent_cons_high_caloric_food</th>\n",
       "      <th>frequency_cons_veg</th>\n",
       "      <th>nb_main_meal</th>\n",
       "      <th>cons_between_meal</th>\n",
       "      <th>SMOKE</th>\n",
       "      <th>CH2O</th>\n",
       "      <th>Suivi_calories</th>\n",
       "      <th>frequency_phys_act</th>\n",
       "      <th>time_tech</th>\n",
       "      <th>cons_alcohol</th>\n",
       "      <th>MTRANS</th>\n",
       "      <th>NObeyesdad</th>\n",
       "    </tr>\n",
       "  </thead>\n",
       "  <tbody>\n",
       "    <tr>\n",
       "      <th>0</th>\n",
       "      <td>1</td>\n",
       "      <td>21.000000</td>\n",
       "      <td>1.620000</td>\n",
       "      <td>64.000000</td>\n",
       "      <td>1</td>\n",
       "      <td>0</td>\n",
       "      <td>2.0</td>\n",
       "      <td>3.0</td>\n",
       "      <td>1</td>\n",
       "      <td>0</td>\n",
       "      <td>2.000000</td>\n",
       "      <td>0</td>\n",
       "      <td>0.000000</td>\n",
       "      <td>1.000000</td>\n",
       "      <td>0</td>\n",
       "      <td>0</td>\n",
       "      <td>Normal_Weight</td>\n",
       "    </tr>\n",
       "    <tr>\n",
       "      <th>1</th>\n",
       "      <td>1</td>\n",
       "      <td>21.000000</td>\n",
       "      <td>1.520000</td>\n",
       "      <td>56.000000</td>\n",
       "      <td>1</td>\n",
       "      <td>0</td>\n",
       "      <td>3.0</td>\n",
       "      <td>3.0</td>\n",
       "      <td>1</td>\n",
       "      <td>1</td>\n",
       "      <td>3.000000</td>\n",
       "      <td>1</td>\n",
       "      <td>3.000000</td>\n",
       "      <td>0.000000</td>\n",
       "      <td>1</td>\n",
       "      <td>0</td>\n",
       "      <td>Normal_Weight</td>\n",
       "    </tr>\n",
       "    <tr>\n",
       "      <th>2</th>\n",
       "      <td>0</td>\n",
       "      <td>23.000000</td>\n",
       "      <td>1.800000</td>\n",
       "      <td>77.000000</td>\n",
       "      <td>1</td>\n",
       "      <td>0</td>\n",
       "      <td>2.0</td>\n",
       "      <td>3.0</td>\n",
       "      <td>1</td>\n",
       "      <td>0</td>\n",
       "      <td>2.000000</td>\n",
       "      <td>0</td>\n",
       "      <td>2.000000</td>\n",
       "      <td>1.000000</td>\n",
       "      <td>2</td>\n",
       "      <td>0</td>\n",
       "      <td>Normal_Weight</td>\n",
       "    </tr>\n",
       "    <tr>\n",
       "      <th>3</th>\n",
       "      <td>0</td>\n",
       "      <td>27.000000</td>\n",
       "      <td>1.800000</td>\n",
       "      <td>87.000000</td>\n",
       "      <td>0</td>\n",
       "      <td>0</td>\n",
       "      <td>3.0</td>\n",
       "      <td>3.0</td>\n",
       "      <td>1</td>\n",
       "      <td>0</td>\n",
       "      <td>2.000000</td>\n",
       "      <td>0</td>\n",
       "      <td>2.000000</td>\n",
       "      <td>0.000000</td>\n",
       "      <td>2</td>\n",
       "      <td>1</td>\n",
       "      <td>Overweight_Level_I</td>\n",
       "    </tr>\n",
       "    <tr>\n",
       "      <th>4</th>\n",
       "      <td>0</td>\n",
       "      <td>22.000000</td>\n",
       "      <td>1.780000</td>\n",
       "      <td>89.800000</td>\n",
       "      <td>0</td>\n",
       "      <td>0</td>\n",
       "      <td>2.0</td>\n",
       "      <td>1.0</td>\n",
       "      <td>1</td>\n",
       "      <td>0</td>\n",
       "      <td>2.000000</td>\n",
       "      <td>0</td>\n",
       "      <td>0.000000</td>\n",
       "      <td>0.000000</td>\n",
       "      <td>1</td>\n",
       "      <td>0</td>\n",
       "      <td>Overweight_Level_II</td>\n",
       "    </tr>\n",
       "    <tr>\n",
       "      <th>...</th>\n",
       "      <td>...</td>\n",
       "      <td>...</td>\n",
       "      <td>...</td>\n",
       "      <td>...</td>\n",
       "      <td>...</td>\n",
       "      <td>...</td>\n",
       "      <td>...</td>\n",
       "      <td>...</td>\n",
       "      <td>...</td>\n",
       "      <td>...</td>\n",
       "      <td>...</td>\n",
       "      <td>...</td>\n",
       "      <td>...</td>\n",
       "      <td>...</td>\n",
       "      <td>...</td>\n",
       "      <td>...</td>\n",
       "      <td>...</td>\n",
       "    </tr>\n",
       "    <tr>\n",
       "      <th>2106</th>\n",
       "      <td>1</td>\n",
       "      <td>20.976842</td>\n",
       "      <td>1.710730</td>\n",
       "      <td>131.408528</td>\n",
       "      <td>1</td>\n",
       "      <td>1</td>\n",
       "      <td>3.0</td>\n",
       "      <td>3.0</td>\n",
       "      <td>1</td>\n",
       "      <td>0</td>\n",
       "      <td>1.728139</td>\n",
       "      <td>0</td>\n",
       "      <td>1.676269</td>\n",
       "      <td>0.906247</td>\n",
       "      <td>1</td>\n",
       "      <td>0</td>\n",
       "      <td>Obesity_Type_III</td>\n",
       "    </tr>\n",
       "    <tr>\n",
       "      <th>2107</th>\n",
       "      <td>1</td>\n",
       "      <td>21.982942</td>\n",
       "      <td>1.748584</td>\n",
       "      <td>133.742943</td>\n",
       "      <td>1</td>\n",
       "      <td>1</td>\n",
       "      <td>3.0</td>\n",
       "      <td>3.0</td>\n",
       "      <td>1</td>\n",
       "      <td>0</td>\n",
       "      <td>2.005130</td>\n",
       "      <td>0</td>\n",
       "      <td>1.341390</td>\n",
       "      <td>0.599270</td>\n",
       "      <td>1</td>\n",
       "      <td>0</td>\n",
       "      <td>Obesity_Type_III</td>\n",
       "    </tr>\n",
       "    <tr>\n",
       "      <th>2108</th>\n",
       "      <td>1</td>\n",
       "      <td>22.524036</td>\n",
       "      <td>1.752206</td>\n",
       "      <td>133.689352</td>\n",
       "      <td>1</td>\n",
       "      <td>1</td>\n",
       "      <td>3.0</td>\n",
       "      <td>3.0</td>\n",
       "      <td>1</td>\n",
       "      <td>0</td>\n",
       "      <td>2.054193</td>\n",
       "      <td>0</td>\n",
       "      <td>1.414209</td>\n",
       "      <td>0.646288</td>\n",
       "      <td>1</td>\n",
       "      <td>0</td>\n",
       "      <td>Obesity_Type_III</td>\n",
       "    </tr>\n",
       "    <tr>\n",
       "      <th>2109</th>\n",
       "      <td>1</td>\n",
       "      <td>24.361936</td>\n",
       "      <td>1.739450</td>\n",
       "      <td>133.346641</td>\n",
       "      <td>1</td>\n",
       "      <td>1</td>\n",
       "      <td>3.0</td>\n",
       "      <td>3.0</td>\n",
       "      <td>1</td>\n",
       "      <td>0</td>\n",
       "      <td>2.852339</td>\n",
       "      <td>0</td>\n",
       "      <td>1.139107</td>\n",
       "      <td>0.586035</td>\n",
       "      <td>1</td>\n",
       "      <td>0</td>\n",
       "      <td>Obesity_Type_III</td>\n",
       "    </tr>\n",
       "    <tr>\n",
       "      <th>2110</th>\n",
       "      <td>1</td>\n",
       "      <td>23.664709</td>\n",
       "      <td>1.738836</td>\n",
       "      <td>133.472641</td>\n",
       "      <td>1</td>\n",
       "      <td>1</td>\n",
       "      <td>3.0</td>\n",
       "      <td>3.0</td>\n",
       "      <td>1</td>\n",
       "      <td>0</td>\n",
       "      <td>2.863513</td>\n",
       "      <td>0</td>\n",
       "      <td>1.026452</td>\n",
       "      <td>0.714137</td>\n",
       "      <td>1</td>\n",
       "      <td>0</td>\n",
       "      <td>Obesity_Type_III</td>\n",
       "    </tr>\n",
       "  </tbody>\n",
       "</table>\n",
       "<p>2111 rows × 17 columns</p>\n",
       "</div>"
      ],
      "text/plain": [
       "      Gender        Age    Height      Weight  family_history_with_overweight  \\\n",
       "0          1  21.000000  1.620000   64.000000                               1   \n",
       "1          1  21.000000  1.520000   56.000000                               1   \n",
       "2          0  23.000000  1.800000   77.000000                               1   \n",
       "3          0  27.000000  1.800000   87.000000                               0   \n",
       "4          0  22.000000  1.780000   89.800000                               0   \n",
       "...      ...        ...       ...         ...                             ...   \n",
       "2106       1  20.976842  1.710730  131.408528                               1   \n",
       "2107       1  21.982942  1.748584  133.742943                               1   \n",
       "2108       1  22.524036  1.752206  133.689352                               1   \n",
       "2109       1  24.361936  1.739450  133.346641                               1   \n",
       "2110       1  23.664709  1.738836  133.472641                               1   \n",
       "\n",
       "      frequent_cons_high_caloric_food  frequency_cons_veg  nb_main_meal  \\\n",
       "0                                   0                 2.0           3.0   \n",
       "1                                   0                 3.0           3.0   \n",
       "2                                   0                 2.0           3.0   \n",
       "3                                   0                 3.0           3.0   \n",
       "4                                   0                 2.0           1.0   \n",
       "...                               ...                 ...           ...   \n",
       "2106                                1                 3.0           3.0   \n",
       "2107                                1                 3.0           3.0   \n",
       "2108                                1                 3.0           3.0   \n",
       "2109                                1                 3.0           3.0   \n",
       "2110                                1                 3.0           3.0   \n",
       "\n",
       "      cons_between_meal  SMOKE      CH2O  Suivi_calories  frequency_phys_act  \\\n",
       "0                     1      0  2.000000               0            0.000000   \n",
       "1                     1      1  3.000000               1            3.000000   \n",
       "2                     1      0  2.000000               0            2.000000   \n",
       "3                     1      0  2.000000               0            2.000000   \n",
       "4                     1      0  2.000000               0            0.000000   \n",
       "...                 ...    ...       ...             ...                 ...   \n",
       "2106                  1      0  1.728139               0            1.676269   \n",
       "2107                  1      0  2.005130               0            1.341390   \n",
       "2108                  1      0  2.054193               0            1.414209   \n",
       "2109                  1      0  2.852339               0            1.139107   \n",
       "2110                  1      0  2.863513               0            1.026452   \n",
       "\n",
       "      time_tech  cons_alcohol  MTRANS           NObeyesdad  \n",
       "0      1.000000             0       0        Normal_Weight  \n",
       "1      0.000000             1       0        Normal_Weight  \n",
       "2      1.000000             2       0        Normal_Weight  \n",
       "3      0.000000             2       1   Overweight_Level_I  \n",
       "4      0.000000             1       0  Overweight_Level_II  \n",
       "...         ...           ...     ...                  ...  \n",
       "2106   0.906247             1       0     Obesity_Type_III  \n",
       "2107   0.599270             1       0     Obesity_Type_III  \n",
       "2108   0.646288             1       0     Obesity_Type_III  \n",
       "2109   0.586035             1       0     Obesity_Type_III  \n",
       "2110   0.714137             1       0     Obesity_Type_III  \n",
       "\n",
       "[2111 rows x 17 columns]"
      ]
     },
     "execution_count": 93,
     "metadata": {},
     "output_type": "execute_result"
    }
   ],
   "source": [
    "df1"
   ]
  },
  {
   "cell_type": "markdown",
   "id": "60e6f4c8",
   "metadata": {},
   "source": [
    "### Dataset's dimension"
   ]
  },
  {
   "cell_type": "code",
   "execution_count": 7,
   "id": "2c6c9a55",
   "metadata": {},
   "outputs": [
    {
     "data": {
      "text/plain": [
       "(2111, 17)"
      ]
     },
     "execution_count": 7,
     "metadata": {},
     "output_type": "execute_result"
    }
   ],
   "source": [
    "df1.shape"
   ]
  },
  {
   "cell_type": "markdown",
   "id": "4d6ae6b6",
   "metadata": {},
   "source": [
    "There are 2111 rows and 17 columns which are :"
   ]
  },
  {
   "cell_type": "code",
   "execution_count": 81,
   "id": "43a038c1",
   "metadata": {},
   "outputs": [
    {
     "name": "stdout",
     "output_type": "stream",
     "text": [
      "<class 'pandas.core.frame.DataFrame'>\n",
      "RangeIndex: 2111 entries, 0 to 2110\n",
      "Data columns (total 17 columns):\n",
      " #   Column                           Non-Null Count  Dtype  \n",
      "---  ------                           --------------  -----  \n",
      " 0   Gender                           2111 non-null   int64  \n",
      " 1   Age                              2111 non-null   float64\n",
      " 2   Height                           2111 non-null   float64\n",
      " 3   Weight                           2111 non-null   float64\n",
      " 4   family_history_with_overweight   2111 non-null   int64  \n",
      " 5   frequent_cons_high_caloric_food  2111 non-null   int64  \n",
      " 6   frequency_cons_veg               2111 non-null   float64\n",
      " 7   nb_main_meal                     2111 non-null   float64\n",
      " 8   cons_between_meal                2111 non-null   int64  \n",
      " 9   SMOKE                            2111 non-null   int64  \n",
      " 10  CH2O                             2111 non-null   float64\n",
      " 11  Suivi_calories                   2111 non-null   int64  \n",
      " 12  frequency_phys_act               2111 non-null   float64\n",
      " 13  time_tech                        2111 non-null   float64\n",
      " 14  cons_alcohol                     0 non-null      float64\n",
      " 15  MTRANS                           0 non-null      float64\n",
      " 16  NObeyesdad                       2111 non-null   int64  \n",
      "dtypes: float64(10), int64(7)\n",
      "memory usage: 280.5 KB\n"
     ]
    }
   ],
   "source": [
    "df1.info()"
   ]
  },
  {
   "cell_type": "markdown",
   "id": "36fc075c",
   "metadata": {},
   "source": [
    "We can see that there are no null value in our dataset."
   ]
  },
  {
   "cell_type": "markdown",
   "id": "c7bf2c63",
   "metadata": {},
   "source": [
    "### Data Visualisation"
   ]
  },
  {
   "cell_type": "code",
   "execution_count": 9,
   "id": "1179846f",
   "metadata": {},
   "outputs": [],
   "source": [
    "import matplotlib.pyplot as plt\n",
    "import seaborn as sns"
   ]
  },
  {
   "cell_type": "code",
   "execution_count": 11,
   "id": "0d06b15e",
   "metadata": {},
   "outputs": [
    {
     "data": {
      "image/png": "[encoded data removed]",
      "text/plain": [
       "<Figure size 432x288 with 1 Axes>"
      ]
     },
     "metadata": {},
     "output_type": "display_data"
    }
   ],
   "source": [
    "df0.groupby('Gender').size().plot(kind='pie', autopct=\"%.1f%%\",\n",
    "                                 colors=['tomato', 'royalblue'])\n",
    "\n",
    "plt.ylabel('Per gender')\n",
    "plt.tight_layout()\n",
    "plt.show()"
   ]
  },
  {
   "cell_type": "code",
   "execution_count": 12,
   "id": "2f8dcda9",
   "metadata": {},
   "outputs": [
    {
     "data": {
      "image/png": "[encoded data removed]",
      "text/plain": [
       "<Figure size 432x288 with 1 Axes>"
      ]
     },
     "metadata": {},
     "output_type": "display_data"
    }
   ],
   "source": [
    "df0.groupby('SMOKE').size().plot(kind='pie', autopct=\"%.1f%%\",\n",
    "                                 colors=['violet', 'lime'])\n",
    "\n",
    "plt.ylabel('Smoke')\n",
    "plt.tight_layout()\n",
    "plt.show()"
   ]
  },
  {
   "cell_type": "code",
   "execution_count": 14,
   "id": "a8ca2a6d",
   "metadata": {},
   "outputs": [
    {
     "data": {
      "image/png": "[encoded data removed]",
      "text/plain": [
       "<Figure size 432x288 with 1 Axes>"
      ]
     },
     "metadata": {},
     "output_type": "display_data"
    }
   ],
   "source": [
    "df0.groupby('NObeyesdad').size().plot(kind='pie', autopct=\"%.1f%%\", textprops={'fontsize': 14})\n",
    "plt.show()"
   ]
  },
  {
   "cell_type": "code",
   "execution_count": 22,
   "id": "8b72f659",
   "metadata": {},
   "outputs": [
    {
     "data": {
      "text/plain": [
       "(array([  2.,  72., 243., 288., 308., 313., 126., 277.,  54.,  47.,  94.,\n",
       "         49.,  55.,  24.,  29.,  50.,  31.,  20.,  11.,   4.,   2.,   2.,\n",
       "          0.,   2.,   1.,   0.,   6.,   0.,   0.,   1.]),\n",
       " array([14.        , 15.56666667, 17.13333333, 18.7       , 20.26666667,\n",
       "        21.83333333, 23.4       , 24.96666667, 26.53333333, 28.1       ,\n",
       "        29.66666667, 31.23333333, 32.8       , 34.36666667, 35.93333333,\n",
       "        37.5       , 39.06666667, 40.63333333, 42.2       , 43.76666667,\n",
       "        45.33333333, 46.9       , 48.46666667, 50.03333333, 51.6       ,\n",
       "        53.16666667, 54.73333333, 56.3       , 57.86666667, 59.43333333,\n",
       "        61.        ]),\n",
       " <BarContainer object of 30 artists>)"
      ]
     },
     "execution_count": 22,
     "metadata": {},
     "output_type": "execute_result"
    },
    {
     "data": {
      "image/png": "[encoded data removed]",
      "text/plain": [
       "<Figure size 432x288 with 1 Axes>"
      ]
     },
     "metadata": {
      "needs_background": "light"
     },
     "output_type": "display_data"
    }
   ],
   "source": [
    "plt.hist(df1['Age'],bins=30,align='right', color='purple', edgecolor='black')"
   ]
  },
  {
   "cell_type": "code",
   "execution_count": 16,
   "id": "b39c3385",
   "metadata": {},
   "outputs": [
    {
     "name": "stderr",
     "output_type": "stream",
     "text": [
      "C:\\Users\\prath\\anaconda3\\lib\\site-packages\\seaborn\\distributions.py:2557: FutureWarning: `distplot` is a deprecated function and will be removed in a future version. Please adapt your code to use either `displot` (a figure-level function with similar flexibility) or `histplot` (an axes-level function for histograms).\n",
      "  warnings.warn(msg, FutureWarning)\n"
     ]
    },
    {
     "data": {
      "text/plain": [
       "<AxesSubplot:xlabel='Age', ylabel='Density'>"
      ]
     },
     "execution_count": 16,
     "metadata": {},
     "output_type": "execute_result"
    },
    {
     "data": {
      "image/png": "[encoded data removed]",
      "text/plain": [
       "<Figure size 432x288 with 1 Axes>"
      ]
     },
     "metadata": {
      "needs_background": "light"
     },
     "output_type": "display_data"
    }
   ],
   "source": [
    "sns.distplot(df1[\"Age\"], kde=True)"
   ]
  },
  {
   "cell_type": "markdown",
   "id": "f260807f",
   "metadata": {},
   "source": [
    "### Correlation Matrix"
   ]
  },
  {
   "cell_type": "code",
   "execution_count": 27,
   "id": "2aeff7c5",
   "metadata": {},
   "outputs": [
    {
     "data": {
      "image/png": "[encoded data removed]",
      "text/plain": [
       "<Figure size 288x288 with 1 Axes>"
      ]
     },
     "metadata": {
      "needs_background": "light"
     },
     "output_type": "display_data"
    }
   ],
   "source": [
    "corr_df = df1.corr(method='pearson')\n",
    "plt.matshow(corr_df)\n",
    "plt.show()"
   ]
  },
  {
   "cell_type": "code",
   "execution_count": 28,
   "id": "b1cbf0a8",
   "metadata": {},
   "outputs": [
    {
     "data": {
      "image/png": "[encoded data removed]",
      "text/plain": [
       "<Figure size 1440x720 with 2 Axes>"
      ]
     },
     "metadata": {
      "needs_background": "light"
     },
     "output_type": "display_data"
    }
   ],
   "source": [
    "corr_df = df1.corr(method='pearson')\n",
    "plt.figure(figsize=(20, 10))\n",
    "sns.heatmap(corr_df, annot=True)\n",
    "plt.show()"
   ]
  },
  {
   "cell_type": "markdown",
   "id": "61d257cd",
   "metadata": {},
   "source": [
    "### Machine Learning"
   ]
  },
  {
   "cell_type": "markdown",
   "id": "0403490c",
   "metadata": {},
   "source": [
    "### KNN Classifier"
   ]
  },
  {
   "cell_type": "code",
   "execution_count": 94,
   "id": "79ded68c",
   "metadata": {},
   "outputs": [],
   "source": [
    "import numpy as np\n",
    "from sklearn.neighbors import KNeighborsClassifier\n",
    "model = KNeighborsClassifier()"
   ]
  },
  {
   "cell_type": "code",
   "execution_count": 95,
   "id": "8455d809",
   "metadata": {},
   "outputs": [],
   "source": [
    "X = df1.drop('NObeyesdad', 1)\n",
    "Y=df1['NObeyesdad']"
   ]
  },
  {
   "cell_type": "code",
   "execution_count": 96,
   "id": "6e1a2047",
   "metadata": {},
   "outputs": [
    {
     "data": {
      "text/plain": [
       "0             Normal_Weight\n",
       "1             Normal_Weight\n",
       "2             Normal_Weight\n",
       "3        Overweight_Level_I\n",
       "4       Overweight_Level_II\n",
       "               ...         \n",
       "2106       Obesity_Type_III\n",
       "2107       Obesity_Type_III\n",
       "2108       Obesity_Type_III\n",
       "2109       Obesity_Type_III\n",
       "2110       Obesity_Type_III\n",
       "Name: NObeyesdad, Length: 2111, dtype: object"
      ]
     },
     "execution_count": 96,
     "metadata": {},
     "output_type": "execute_result"
    }
   ],
   "source": [
    "Y"
   ]
  },
  {
   "cell_type": "code",
   "execution_count": 97,
   "id": "c6c9f79a",
   "metadata": {},
   "outputs": [
    {
     "data": {
      "text/plain": [
       "0.9204168640454761"
      ]
     },
     "execution_count": 97,
     "metadata": {},
     "output_type": "execute_result"
    }
   ],
   "source": [
    "model.fit(X,Y)\n",
    "model.score(X,Y)"
   ]
  },
  {
   "cell_type": "code",
   "execution_count": 98,
   "id": "dbd80020",
   "metadata": {},
   "outputs": [
    {
     "data": {
      "text/plain": [
       "array(['Overweight_Level_II', 'Insufficient_Weight', 'Overweight_Level_I',\n",
       "       ..., 'Obesity_Type_III', 'Obesity_Type_III', 'Obesity_Type_III'],\n",
       "      dtype=object)"
      ]
     },
     "execution_count": 98,
     "metadata": {},
     "output_type": "execute_result"
    }
   ],
   "source": [
    "model.predict(X)"
   ]
  },
  {
   "cell_type": "code",
   "execution_count": 99,
   "id": "fc16f3f3",
   "metadata": {
    "scrolled": true
   },
   "outputs": [
    {
     "name": "stdout",
     "output_type": "stream",
     "text": [
      "1\n",
      "1.0\n"
     ]
    },
    {
     "data": {
      "text/plain": [
       "[<matplotlib.lines.Line2D at 0x23187e52400>]"
      ]
     },
     "execution_count": 99,
     "metadata": {},
     "output_type": "execute_result"
    },
    {
     "data": {
      "image/png": "[encoded data removed]",
      "text/plain": [
       "<Figure size 432x288 with 1 Axes>"
      ]
     },
     "metadata": {
      "needs_background": "light"
     },
     "output_type": "display_data"
    }
   ],
   "source": [
    "scores=[]\n",
    "best_k = 1\n",
    "best_score = 0\n",
    "\n",
    "for k in range(best_k, 30):\n",
    "    model = KNeighborsClassifier(n_neighbors = k)\n",
    "    model.fit(X,Y)\n",
    "    scores.append(model.score(X,Y))\n",
    "    if best_score < model.score(X,Y):\n",
    "        best_k=k\n",
    "        best_score=model.score(X,Y)\n",
    "        \n",
    "print(best_k)\n",
    "print(best_score)\n",
    "plt.plot(scores)"
   ]
  },
  {
   "cell_type": "markdown",
   "id": "4208aaf4",
   "metadata": {},
   "source": [
    "### Second model"
   ]
  },
  {
   "cell_type": "code",
   "execution_count": 100,
   "id": "e4c1e4a3",
   "metadata": {},
   "outputs": [],
   "source": [
    "df2=df1.copy()\n",
    "\n",
    "df2['NObeyesdad'] = df2['NObeyesdad'].map({'Insufficient_Weight':0,\n",
    "                             'Normal_Weight':1,'Overweight_Level_I':2,\n",
    "                             'Overweight_Level_II':3,'Obesity_Type_I':4,\n",
    "                            'Obesity_Type_II':5,'Obesity_Type_III':6},na_action=None)"
   ]
  },
  {
   "cell_type": "code",
   "execution_count": 101,
   "id": "f439dd31",
   "metadata": {},
   "outputs": [],
   "source": [
    "from sklearn import datasets\n",
    "from sklearn.model_selection import train_test_split\n",
    "import numpy as np"
   ]
  },
  {
   "cell_type": "code",
   "execution_count": 102,
   "id": "dd2060aa",
   "metadata": {},
   "outputs": [],
   "source": [
    "train=df2.sample(frac=0.66,random_state=200) #random state is a seed value\n",
    "test=df2.drop(train.index)\n",
    "\n",
    "X_train = train.drop('NObeyesdad', 1)\n",
    "Y_train=train['NObeyesdad']\n",
    "X_test = test.drop('NObeyesdad', 1)\n",
    "Y_test=test['NObeyesdad']"
   ]
  },
  {
   "cell_type": "code",
   "execution_count": 103,
   "id": "c0b138f9",
   "metadata": {},
   "outputs": [
    {
     "data": {
      "text/plain": [
       "array([0.95516   , 0.94644114, 0.93264683, 0.95170284, 0.9508992 ])"
      ]
     },
     "execution_count": 103,
     "metadata": {},
     "output_type": "execute_result"
    }
   ],
   "source": [
    "from sklearn import svm\n",
    "svr = svm.SVR(kernel='linear')\n",
    "\n",
    "from sklearn.model_selection import  cross_val_score\n",
    "cross_val_score(svr, X_train, Y_train)"
   ]
  },
  {
   "cell_type": "code",
   "execution_count": 104,
   "id": "1c11ea80",
   "metadata": {},
   "outputs": [
    {
     "name": "stdout",
     "output_type": "stream",
     "text": [
      "0.93882863323461 SVR(gamma=0.01)\n"
     ]
    }
   ],
   "source": [
    "from sklearn.model_selection import GridSearchCV\n",
    "parameters = {  'gamma' : [0.01, 0.1, 0.5]           }\n",
    "grid       = GridSearchCV(svm.SVR(), parameters, n_jobs=-1, cv=5)\n",
    "grid.fit(X_train, Y_train)\n",
    "print (grid.best_score_, grid.best_estimator_)"
   ]
  },
  {
   "cell_type": "code",
   "execution_count": 105,
   "id": "ead41a93",
   "metadata": {},
   "outputs": [
    {
     "data": {
      "text/plain": [
       "0.9558451041120604"
      ]
     },
     "execution_count": 105,
     "metadata": {},
     "output_type": "execute_result"
    }
   ],
   "source": [
    "grid.score(X_test,Y_test)"
   ]
  },
  {
   "cell_type": "markdown",
   "id": "5fc99af9",
   "metadata": {},
   "source": [
    "### Grid Search"
   ]
  },
  {
   "cell_type": "code",
   "execution_count": 106,
   "id": "3167fb88",
   "metadata": {},
   "outputs": [
    {
     "name": "stdout",
     "output_type": "stream",
     "text": [
      "0.9395205195516578 SVR(C=1.5, gamma=0.1)\n"
     ]
    }
   ],
   "source": [
    "parameters = {  'C'      : [0.5, 1, 1.5]             ,\n",
    "                'gamma'  : [0.5, 0.1, 0.15]      }\n",
    "grid = GridSearchCV(svm.SVR(), parameters, n_jobs=-1)\n",
    "grid.fit(X_train, Y_train)\n",
    "print (grid.best_score_, grid.best_estimator_)"
   ]
  },
  {
   "cell_type": "code",
   "execution_count": 107,
   "id": "97d0b474",
   "metadata": {},
   "outputs": [
    {
     "data": {
      "text/plain": [
       "0.9579137375416337"
      ]
     },
     "execution_count": 107,
     "metadata": {},
     "output_type": "execute_result"
    }
   ],
   "source": [
    "grid.score(X_test,Y_test)"
   ]
  },
  {
   "cell_type": "markdown",
   "id": "2258c1d9",
   "metadata": {},
   "source": [
    "### Models without weight and height"
   ]
  },
  {
   "cell_type": "markdown",
   "id": "08882b06",
   "metadata": {},
   "source": [
    "We decide to remove weight and height variables because they have a too high correlation with our target variable."
   ]
  },
  {
   "cell_type": "code",
   "execution_count": 108,
   "id": "eca27c97",
   "metadata": {},
   "outputs": [],
   "source": [
    "df3=df2.copy()\n",
    "df3=df3.drop('Height',1)\n",
    "df3=df3.drop('Weight',1)"
   ]
  },
  {
   "cell_type": "code",
   "execution_count": 109,
   "id": "fc4ca474",
   "metadata": {},
   "outputs": [],
   "source": [
    "train=df3.sample(frac=0.66,random_state=200) #random state is a seed value\n",
    "test=df3.drop(train.index)\n",
    "\n",
    "X_train = train.drop('NObeyesdad', 1)\n",
    "Y_train=train['NObeyesdad']\n",
    "X_test = test.drop('NObeyesdad', 1)\n",
    "Y_test=test['NObeyesdad']"
   ]
  },
  {
   "cell_type": "code",
   "execution_count": 110,
   "id": "14f1cd97",
   "metadata": {},
   "outputs": [],
   "source": [
    "def score(model):\n",
    "    score=0\n",
    "    for i in range(len(X_test)):\n",
    "        p=round(float(model.predict(X_test.iloc[i:i+1,])),0)\n",
    "        if (p==int(Y_test.iloc[i:i+1,])):\n",
    "            score+=1\n",
    "\n",
    "    return round((score/len(X_test))*100,2)"
   ]
  },
  {
   "cell_type": "code",
   "execution_count": 111,
   "id": "d9f20136",
   "metadata": {},
   "outputs": [],
   "source": [
    "Lscores=[]"
   ]
  },
  {
   "cell_type": "markdown",
   "id": "17bbd059",
   "metadata": {},
   "source": [
    "### SVM / GridSearch"
   ]
  },
  {
   "cell_type": "code",
   "execution_count": 112,
   "id": "573fbefb",
   "metadata": {},
   "outputs": [
    {
     "data": {
      "text/plain": [
       "array([0.4302615 , 0.41615671, 0.37118379, 0.36490891, 0.39917548])"
      ]
     },
     "execution_count": 112,
     "metadata": {},
     "output_type": "execute_result"
    }
   ],
   "source": [
    "from sklearn import svm\n",
    "svr = svm.SVR(kernel='linear')\n",
    "\n",
    "from sklearn.model_selection import  cross_val_score\n",
    "cross_val_score(svr, X_train, Y_train)"
   ]
  },
  {
   "cell_type": "markdown",
   "id": "c078aa57",
   "metadata": {},
   "source": [
    "### With one parameter"
   ]
  },
  {
   "cell_type": "code",
   "execution_count": 113,
   "id": "57ffdc19",
   "metadata": {},
   "outputs": [
    {
     "data": {
      "text/plain": [
       "84.02"
      ]
     },
     "execution_count": 113,
     "metadata": {},
     "output_type": "execute_result"
    }
   ],
   "source": [
    "from sklearn.model_selection import GridSearchCV\n",
    "parameters = {  'gamma' : [0.01, 0.1, 0.5]           }\n",
    "grid       = GridSearchCV(svm.SVR(), parameters, n_jobs=-1, cv=5)\n",
    "grid.fit(X_train, Y_train)\n",
    "#print (grid.best_score_, grid.best_estimator_)\n",
    "\n",
    "round(grid.score(X_test,Y_test)*100,2)"
   ]
  },
  {
   "cell_type": "code",
   "execution_count": 114,
   "id": "572428be",
   "metadata": {},
   "outputs": [],
   "source": [
    "score(grid)\n",
    "Lscores.append(score(grid))"
   ]
  },
  {
   "cell_type": "markdown",
   "id": "829458b9",
   "metadata": {},
   "source": [
    "### With two parameters"
   ]
  },
  {
   "cell_type": "code",
   "execution_count": 115,
   "id": "9cd11a01",
   "metadata": {},
   "outputs": [
    {
     "data": {
      "text/plain": [
       "84.78"
      ]
     },
     "execution_count": 115,
     "metadata": {},
     "output_type": "execute_result"
    }
   ],
   "source": [
    "parameters = {  'C'      : [0.5, 1, 1.5]             ,\n",
    "                'gamma'  : [0.5, 0.1, 0.15]      }\n",
    "grid = GridSearchCV(svm.SVR(), parameters, n_jobs=-1)\n",
    "grid.fit(X_train, Y_train)\n",
    "\n",
    "round(grid.score(X_test,Y_test)*100,2)"
   ]
  },
  {
   "cell_type": "code",
   "execution_count": 116,
   "id": "dfb8b388",
   "metadata": {},
   "outputs": [],
   "source": [
    "score(grid)\n",
    "Lscores.append(score(grid))"
   ]
  },
  {
   "cell_type": "markdown",
   "id": "bc75082d",
   "metadata": {},
   "source": [
    "### Bagging"
   ]
  },
  {
   "cell_type": "code",
   "execution_count": 117,
   "id": "c7ac2eba",
   "metadata": {},
   "outputs": [
    {
     "name": "stdout",
     "output_type": "stream",
     "text": [
      "87.83\n"
     ]
    }
   ],
   "source": [
    "from sklearn.ensemble import BaggingRegressor\n",
    "res=0\n",
    "sc=0\n",
    "for i in range(10):\n",
    "    algorithme = BaggingRegressor()\n",
    "    algorithme.fit(X_train, Y_train)\n",
    "    performance = algorithme.score(X_test, Y_test)\n",
    "    sc+=score(algorithme)\n",
    "    res+=performance\n",
    "    \n",
    "print(round((res/10)*100,2))"
   ]
  },
  {
   "cell_type": "code",
   "execution_count": 118,
   "id": "0c15c1cb",
   "metadata": {},
   "outputs": [],
   "source": [
    "round(sc/10,2)\n",
    "Lscores.append(round(sc/10,2))"
   ]
  },
  {
   "cell_type": "markdown",
   "id": "a84d18dd",
   "metadata": {},
   "source": [
    "### Adaboost"
   ]
  },
  {
   "cell_type": "code",
   "execution_count": 119,
   "id": "e70ee073",
   "metadata": {},
   "outputs": [
    {
     "data": {
      "text/plain": [
       "36.63"
      ]
     },
     "execution_count": 119,
     "metadata": {},
     "output_type": "execute_result"
    }
   ],
   "source": [
    "from sklearn.ensemble import AdaBoostClassifier\n",
    "algorithme = AdaBoostClassifier(n_estimators=50,learning_rate=1)\n",
    "algorithme.fit(X_train, Y_train)\n",
    "round(algorithme.score(X_test, Y_test)*100,2)"
   ]
  },
  {
   "cell_type": "code",
   "execution_count": 120,
   "id": "f4f51dd3",
   "metadata": {},
   "outputs": [],
   "source": [
    "score(algorithme)\n",
    "Lscores.append(score(algorithme))"
   ]
  },
  {
   "cell_type": "markdown",
   "id": "769eed59",
   "metadata": {},
   "source": [
    "### Extra tree"
   ]
  },
  {
   "cell_type": "code",
   "execution_count": 121,
   "id": "b99f6505",
   "metadata": {},
   "outputs": [
    {
     "data": {
      "text/plain": [
       "86.35"
      ]
     },
     "execution_count": 121,
     "metadata": {},
     "output_type": "execute_result"
    }
   ],
   "source": [
    "from sklearn.ensemble import ExtraTreesClassifier\n",
    "algorithme = ExtraTreesClassifier(n_estimators=100, random_state=0)\n",
    "algorithme.fit(X_train, Y_train)\n",
    "round(algorithme.score(X_test, Y_test)*100,2)"
   ]
  },
  {
   "cell_type": "code",
   "execution_count": 122,
   "id": "e02e3efc",
   "metadata": {},
   "outputs": [],
   "source": [
    "score(algorithme)\n",
    "Lscores.append(score(algorithme))"
   ]
  },
  {
   "cell_type": "markdown",
   "id": "714fad54",
   "metadata": {},
   "source": [
    "### Gradient Boosting"
   ]
  },
  {
   "cell_type": "code",
   "execution_count": 123,
   "id": "24980292",
   "metadata": {},
   "outputs": [
    {
     "data": {
      "text/plain": [
       "63.48"
      ]
     },
     "execution_count": 123,
     "metadata": {},
     "output_type": "execute_result"
    }
   ],
   "source": [
    "from sklearn.ensemble import GradientBoostingRegressor\n",
    "algorithme = GradientBoostingRegressor(max_depth=1)\n",
    "algorithme.fit(X_train, Y_train)\n",
    "round(algorithme.score(X_test, Y_test)*100,2)"
   ]
  },
  {
   "cell_type": "code",
   "execution_count": 124,
   "id": "a5ffc273",
   "metadata": {},
   "outputs": [],
   "source": [
    "score(algorithme)\n",
    "Lscores.append(score(algorithme))"
   ]
  },
  {
   "cell_type": "markdown",
   "id": "413ed0bf",
   "metadata": {},
   "source": [
    "### Random forest"
   ]
  },
  {
   "cell_type": "code",
   "execution_count": 125,
   "id": "8b217146",
   "metadata": {},
   "outputs": [
    {
     "data": {
      "text/plain": [
       "58.22"
      ]
     },
     "execution_count": 125,
     "metadata": {},
     "output_type": "execute_result"
    }
   ],
   "source": [
    "from sklearn.ensemble import RandomForestClassifier\n",
    "algorithme = RandomForestClassifier(max_depth=2, random_state=0)\n",
    "algorithme.fit(X_train, Y_train)\n",
    "round(algorithme.score(X_test, Y_test)*100,2)"
   ]
  },
  {
   "cell_type": "code",
   "execution_count": 126,
   "id": "e639da64",
   "metadata": {},
   "outputs": [],
   "source": [
    "score(algorithme)\n",
    "Lscores.append(score(algorithme))"
   ]
  },
  {
   "cell_type": "markdown",
   "id": "b958019d",
   "metadata": {},
   "source": [
    "### KNN"
   ]
  },
  {
   "cell_type": "code",
   "execution_count": 127,
   "id": "17687b61",
   "metadata": {},
   "outputs": [
    {
     "data": {
      "text/plain": [
       "75.91"
      ]
     },
     "execution_count": 127,
     "metadata": {},
     "output_type": "execute_result"
    }
   ],
   "source": [
    "from sklearn.neighbors import KNeighborsClassifier\n",
    "model = KNeighborsClassifier()\n",
    "model.fit(X_train, Y_train)\n",
    "round(model.score(X_test, Y_test)*100,2)"
   ]
  },
  {
   "cell_type": "code",
   "execution_count": 128,
   "id": "a2fd8352",
   "metadata": {},
   "outputs": [],
   "source": [
    "score(algorithme)\n",
    "Lscores.append(score(algorithme))"
   ]
  },
  {
   "cell_type": "markdown",
   "id": "750541b7",
   "metadata": {},
   "source": [
    "### Predictions"
   ]
  },
  {
   "cell_type": "code",
   "execution_count": 129,
   "id": "a1893a83",
   "metadata": {},
   "outputs": [],
   "source": [
    "def Predictions(X):\n",
    "    L=algorithme.predict(X)\n",
    "    return [round(i,0) for i in L]"
   ]
  },
  {
   "cell_type": "code",
   "execution_count": 130,
   "id": "c452827a",
   "metadata": {},
   "outputs": [
    {
     "data": {
      "text/plain": [
       "8"
      ]
     },
     "execution_count": 130,
     "metadata": {},
     "output_type": "execute_result"
    }
   ],
   "source": [
    "len(Lscores)"
   ]
  },
  {
   "cell_type": "markdown",
   "id": "264497f2",
   "metadata": {},
   "source": [
    "### Model comparison"
   ]
  },
  {
   "cell_type": "code",
   "execution_count": 142,
   "id": "7d523594",
   "metadata": {},
   "outputs": [
    {
     "data": {
      "image/png": "[encoded data removed]",
      "text/plain": [
       "<Figure size 1120x400 with 1 Axes>"
      ]
     },
     "metadata": {
      "needs_background": "light"
     },
     "output_type": "display_data"
    }
   ],
   "source": [
    "#Comparison of models with percentage\n",
    "import matplotlib.pyplot as plt\n",
    "fig = plt.figure(figsize=(14, 5), dpi=80)\n",
    "ax = fig.add_axes([0,0,1,1])\n",
    "modeles = ['SVM 1 parameter','SVM 2 parameter','Bagging','Adaboost','Extra tree','Gradient boosting','Random forest','KNN']\n",
    "ax.bar(modeles,Lscores,color=['navy','khaki','orange','deepskyblue','gold','olive','lime','coral','pink'])\n",
    "xlocs, xlabs = plt.xticks()\n",
    "for i, v in enumerate(Lscores):\n",
    "    plt.text(xlocs[i] - 0.12, v + 1, str(v),fontweight=\"bold\")\n",
    "plt.show()"
   ]
  }
 ],
 "metadata": {
  "kernelspec": {
   "display_name": "Python 3",
   "language": "python",
   "name": "python3"
  },
  "language_info": {
   "codemirror_mode": {
    "name": "ipython",
    "version": 3
   },
   "file_extension": ".py",
   "mimetype": "text/x-python",
   "name": "python",
   "nbconvert_exporter": "python",
   "pygments_lexer": "ipython3",
   "version": "3.8.8"
  }
 },
 "nbformat": 4,
 "nbformat_minor": 5
}
