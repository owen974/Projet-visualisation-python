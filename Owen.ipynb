{
 "cells": [
  {
   "cell_type": "code",
   "execution_count": 1,
   "id": "789c937b",
   "metadata": {},
   "outputs": [],
   "source": [
    "import pandas as pd\n",
    "df1=pd.read_csv('ObesityDataSet_raw_and_data_sinthetic.csv')"
   ]
  },
  {
   "cell_type": "code",
   "execution_count": 2,
   "id": "305e08c1",
   "metadata": {},
   "outputs": [],
   "source": [
    "df1 = df1.rename(columns={'FAVC': 'frequent_cons_high_caloric_food', 'FCVC': 'frequency_cons_veg', \n",
    "                           'NCP': 'nb_main_meal', 'CAEC': 'cons_between_meal', \n",
    "                           'SCC': 'Suivi_calories', 'FAF': 'frequency_phys_act', \n",
    "                           'TUE': 'time_tech', 'CALC': 'cons_alcohol'})"
   ]
  },
  {
   "cell_type": "code",
   "execution_count": 3,
   "id": "3df32940",
   "metadata": {},
   "outputs": [],
   "source": [
    "df1['Gender'] = df1['Gender'].replace(['Male','Female'],[0,1])\n",
    "df1['family_history_with_overweight'] = df1['family_history_with_overweight'].replace(['yes','no'],[1,0])\n",
    "df1['frequent_cons_high_caloric_food'] = df1['frequent_cons_high_caloric_food'].replace(['yes','no'],[1,0])\n",
    "df1['cons_between_meal'] = df1['cons_between_meal'].replace(['no','Sometimes','Frequently','Always'],[0,1,2,3])\n",
    "df1['SMOKE'] = df1['SMOKE'].replace(['yes','no'],[1,0])\n",
    "df1['Suivi_calories'] = df1['Suivi_calories'].replace(['yes','no'],[1,0])\n",
    "df1['MTRANS'] = df1['MTRANS'].map({'Public_Transportation':0,\n",
    "                             'Walking':1,'Automobile':2,\n",
    "                             'Motorbike':3,'Bike':4},na_action=None)\n",
    "df1['cons_alcohol'] = df1['cons_alcohol'].map({'no':0,\n",
    "                             'Sometimes':1,'Frequently':2,\n",
    "                             'Always':3},na_action=None)"
   ]
  },
  {
   "cell_type": "code",
   "execution_count": 4,
   "id": "b4a475fa",
   "metadata": {},
   "outputs": [
    {
     "data": {
      "text/html": [
       "<div>\n",
       "<style scoped>\n",
       "    .dataframe tbody tr th:only-of-type {\n",
       "        vertical-align: middle;\n",
       "    }\n",
       "\n",
       "    .dataframe tbody tr th {\n",
       "        vertical-align: top;\n",
       "    }\n",
       "\n",
       "    .dataframe thead th {\n",
       "        text-align: right;\n",
       "    }\n",
       "</style>\n",
       "<table border=\"1\" class=\"dataframe\">\n",
       "  <thead>\n",
       "    <tr style=\"text-align: right;\">\n",
       "      <th></th>\n",
       "      <th>Gender</th>\n",
       "      <th>Age</th>\n",
       "      <th>Height</th>\n",
       "      <th>Weight</th>\n",
       "      <th>family_history_with_overweight</th>\n",
       "      <th>frequent_cons_high_caloric_food</th>\n",
       "      <th>frequency_cons_veg</th>\n",
       "      <th>nb_main_meal</th>\n",
       "      <th>cons_between_meal</th>\n",
       "      <th>SMOKE</th>\n",
       "      <th>CH2O</th>\n",
       "      <th>Suivi_calories</th>\n",
       "      <th>frequency_phys_act</th>\n",
       "      <th>time_tech</th>\n",
       "      <th>cons_alcohol</th>\n",
       "      <th>MTRANS</th>\n",
       "      <th>NObeyesdad</th>\n",
       "    </tr>\n",
       "  </thead>\n",
       "  <tbody>\n",
       "    <tr>\n",
       "      <th>0</th>\n",
       "      <td>1</td>\n",
       "      <td>21.0</td>\n",
       "      <td>1.62</td>\n",
       "      <td>64.0</td>\n",
       "      <td>1</td>\n",
       "      <td>0</td>\n",
       "      <td>2.0</td>\n",
       "      <td>3.0</td>\n",
       "      <td>1</td>\n",
       "      <td>0</td>\n",
       "      <td>2.0</td>\n",
       "      <td>0</td>\n",
       "      <td>0.0</td>\n",
       "      <td>1.0</td>\n",
       "      <td>0</td>\n",
       "      <td>0</td>\n",
       "      <td>Normal_Weight</td>\n",
       "    </tr>\n",
       "    <tr>\n",
       "      <th>1</th>\n",
       "      <td>1</td>\n",
       "      <td>21.0</td>\n",
       "      <td>1.52</td>\n",
       "      <td>56.0</td>\n",
       "      <td>1</td>\n",
       "      <td>0</td>\n",
       "      <td>3.0</td>\n",
       "      <td>3.0</td>\n",
       "      <td>1</td>\n",
       "      <td>1</td>\n",
       "      <td>3.0</td>\n",
       "      <td>1</td>\n",
       "      <td>3.0</td>\n",
       "      <td>0.0</td>\n",
       "      <td>1</td>\n",
       "      <td>0</td>\n",
       "      <td>Normal_Weight</td>\n",
       "    </tr>\n",
       "    <tr>\n",
       "      <th>2</th>\n",
       "      <td>0</td>\n",
       "      <td>23.0</td>\n",
       "      <td>1.80</td>\n",
       "      <td>77.0</td>\n",
       "      <td>1</td>\n",
       "      <td>0</td>\n",
       "      <td>2.0</td>\n",
       "      <td>3.0</td>\n",
       "      <td>1</td>\n",
       "      <td>0</td>\n",
       "      <td>2.0</td>\n",
       "      <td>0</td>\n",
       "      <td>2.0</td>\n",
       "      <td>1.0</td>\n",
       "      <td>2</td>\n",
       "      <td>0</td>\n",
       "      <td>Normal_Weight</td>\n",
       "    </tr>\n",
       "    <tr>\n",
       "      <th>3</th>\n",
       "      <td>0</td>\n",
       "      <td>27.0</td>\n",
       "      <td>1.80</td>\n",
       "      <td>87.0</td>\n",
       "      <td>0</td>\n",
       "      <td>0</td>\n",
       "      <td>3.0</td>\n",
       "      <td>3.0</td>\n",
       "      <td>1</td>\n",
       "      <td>0</td>\n",
       "      <td>2.0</td>\n",
       "      <td>0</td>\n",
       "      <td>2.0</td>\n",
       "      <td>0.0</td>\n",
       "      <td>2</td>\n",
       "      <td>1</td>\n",
       "      <td>Overweight_Level_I</td>\n",
       "    </tr>\n",
       "    <tr>\n",
       "      <th>4</th>\n",
       "      <td>0</td>\n",
       "      <td>22.0</td>\n",
       "      <td>1.78</td>\n",
       "      <td>89.8</td>\n",
       "      <td>0</td>\n",
       "      <td>0</td>\n",
       "      <td>2.0</td>\n",
       "      <td>1.0</td>\n",
       "      <td>1</td>\n",
       "      <td>0</td>\n",
       "      <td>2.0</td>\n",
       "      <td>0</td>\n",
       "      <td>0.0</td>\n",
       "      <td>0.0</td>\n",
       "      <td>1</td>\n",
       "      <td>0</td>\n",
       "      <td>Overweight_Level_II</td>\n",
       "    </tr>\n",
       "    <tr>\n",
       "      <th>5</th>\n",
       "      <td>0</td>\n",
       "      <td>29.0</td>\n",
       "      <td>1.62</td>\n",
       "      <td>53.0</td>\n",
       "      <td>0</td>\n",
       "      <td>1</td>\n",
       "      <td>2.0</td>\n",
       "      <td>3.0</td>\n",
       "      <td>1</td>\n",
       "      <td>0</td>\n",
       "      <td>2.0</td>\n",
       "      <td>0</td>\n",
       "      <td>0.0</td>\n",
       "      <td>0.0</td>\n",
       "      <td>1</td>\n",
       "      <td>2</td>\n",
       "      <td>Normal_Weight</td>\n",
       "    </tr>\n",
       "    <tr>\n",
       "      <th>6</th>\n",
       "      <td>1</td>\n",
       "      <td>23.0</td>\n",
       "      <td>1.50</td>\n",
       "      <td>55.0</td>\n",
       "      <td>1</td>\n",
       "      <td>1</td>\n",
       "      <td>3.0</td>\n",
       "      <td>3.0</td>\n",
       "      <td>1</td>\n",
       "      <td>0</td>\n",
       "      <td>2.0</td>\n",
       "      <td>0</td>\n",
       "      <td>1.0</td>\n",
       "      <td>0.0</td>\n",
       "      <td>1</td>\n",
       "      <td>3</td>\n",
       "      <td>Normal_Weight</td>\n",
       "    </tr>\n",
       "    <tr>\n",
       "      <th>7</th>\n",
       "      <td>0</td>\n",
       "      <td>22.0</td>\n",
       "      <td>1.64</td>\n",
       "      <td>53.0</td>\n",
       "      <td>0</td>\n",
       "      <td>0</td>\n",
       "      <td>2.0</td>\n",
       "      <td>3.0</td>\n",
       "      <td>1</td>\n",
       "      <td>0</td>\n",
       "      <td>2.0</td>\n",
       "      <td>0</td>\n",
       "      <td>3.0</td>\n",
       "      <td>0.0</td>\n",
       "      <td>1</td>\n",
       "      <td>0</td>\n",
       "      <td>Normal_Weight</td>\n",
       "    </tr>\n",
       "    <tr>\n",
       "      <th>8</th>\n",
       "      <td>0</td>\n",
       "      <td>24.0</td>\n",
       "      <td>1.78</td>\n",
       "      <td>64.0</td>\n",
       "      <td>1</td>\n",
       "      <td>1</td>\n",
       "      <td>3.0</td>\n",
       "      <td>3.0</td>\n",
       "      <td>1</td>\n",
       "      <td>0</td>\n",
       "      <td>2.0</td>\n",
       "      <td>0</td>\n",
       "      <td>1.0</td>\n",
       "      <td>1.0</td>\n",
       "      <td>2</td>\n",
       "      <td>0</td>\n",
       "      <td>Normal_Weight</td>\n",
       "    </tr>\n",
       "    <tr>\n",
       "      <th>9</th>\n",
       "      <td>0</td>\n",
       "      <td>22.0</td>\n",
       "      <td>1.72</td>\n",
       "      <td>68.0</td>\n",
       "      <td>1</td>\n",
       "      <td>1</td>\n",
       "      <td>2.0</td>\n",
       "      <td>3.0</td>\n",
       "      <td>1</td>\n",
       "      <td>0</td>\n",
       "      <td>2.0</td>\n",
       "      <td>0</td>\n",
       "      <td>1.0</td>\n",
       "      <td>1.0</td>\n",
       "      <td>0</td>\n",
       "      <td>0</td>\n",
       "      <td>Normal_Weight</td>\n",
       "    </tr>\n",
       "  </tbody>\n",
       "</table>\n",
       "</div>"
      ],
      "text/plain": [
       "   Gender   Age  Height  Weight  family_history_with_overweight  \\\n",
       "0       1  21.0    1.62    64.0                               1   \n",
       "1       1  21.0    1.52    56.0                               1   \n",
       "2       0  23.0    1.80    77.0                               1   \n",
       "3       0  27.0    1.80    87.0                               0   \n",
       "4       0  22.0    1.78    89.8                               0   \n",
       "5       0  29.0    1.62    53.0                               0   \n",
       "6       1  23.0    1.50    55.0                               1   \n",
       "7       0  22.0    1.64    53.0                               0   \n",
       "8       0  24.0    1.78    64.0                               1   \n",
       "9       0  22.0    1.72    68.0                               1   \n",
       "\n",
       "   frequent_cons_high_caloric_food  frequency_cons_veg  nb_main_meal  \\\n",
       "0                                0                 2.0           3.0   \n",
       "1                                0                 3.0           3.0   \n",
       "2                                0                 2.0           3.0   \n",
       "3                                0                 3.0           3.0   \n",
       "4                                0                 2.0           1.0   \n",
       "5                                1                 2.0           3.0   \n",
       "6                                1                 3.0           3.0   \n",
       "7                                0                 2.0           3.0   \n",
       "8                                1                 3.0           3.0   \n",
       "9                                1                 2.0           3.0   \n",
       "\n",
       "   cons_between_meal  SMOKE  CH2O  Suivi_calories  frequency_phys_act  \\\n",
       "0                  1      0   2.0               0                 0.0   \n",
       "1                  1      1   3.0               1                 3.0   \n",
       "2                  1      0   2.0               0                 2.0   \n",
       "3                  1      0   2.0               0                 2.0   \n",
       "4                  1      0   2.0               0                 0.0   \n",
       "5                  1      0   2.0               0                 0.0   \n",
       "6                  1      0   2.0               0                 1.0   \n",
       "7                  1      0   2.0               0                 3.0   \n",
       "8                  1      0   2.0               0                 1.0   \n",
       "9                  1      0   2.0               0                 1.0   \n",
       "\n",
       "   time_tech  cons_alcohol  MTRANS           NObeyesdad  \n",
       "0        1.0             0       0        Normal_Weight  \n",
       "1        0.0             1       0        Normal_Weight  \n",
       "2        1.0             2       0        Normal_Weight  \n",
       "3        0.0             2       1   Overweight_Level_I  \n",
       "4        0.0             1       0  Overweight_Level_II  \n",
       "5        0.0             1       2        Normal_Weight  \n",
       "6        0.0             1       3        Normal_Weight  \n",
       "7        0.0             1       0        Normal_Weight  \n",
       "8        1.0             2       0        Normal_Weight  \n",
       "9        1.0             0       0        Normal_Weight  "
      ]
     },
     "execution_count": 4,
     "metadata": {},
     "output_type": "execute_result"
    }
   ],
   "source": [
    "df1.head(10)"
   ]
  },
  {
   "cell_type": "code",
   "execution_count": 5,
   "id": "d2750953",
   "metadata": {
    "scrolled": true
   },
   "outputs": [
    {
     "name": "stdout",
     "output_type": "stream",
     "text": [
      "<class 'pandas.core.frame.DataFrame'>\n",
      "RangeIndex: 2111 entries, 0 to 2110\n",
      "Data columns (total 17 columns):\n",
      " #   Column                           Non-Null Count  Dtype  \n",
      "---  ------                           --------------  -----  \n",
      " 0   Gender                           2111 non-null   int64  \n",
      " 1   Age                              2111 non-null   float64\n",
      " 2   Height                           2111 non-null   float64\n",
      " 3   Weight                           2111 non-null   float64\n",
      " 4   family_history_with_overweight   2111 non-null   int64  \n",
      " 5   frequent_cons_high_caloric_food  2111 non-null   int64  \n",
      " 6   frequency_cons_veg               2111 non-null   float64\n",
      " 7   nb_main_meal                     2111 non-null   float64\n",
      " 8   cons_between_meal                2111 non-null   int64  \n",
      " 9   SMOKE                            2111 non-null   int64  \n",
      " 10  CH2O                             2111 non-null   float64\n",
      " 11  Suivi_calories                   2111 non-null   int64  \n",
      " 12  frequency_phys_act               2111 non-null   float64\n",
      " 13  time_tech                        2111 non-null   float64\n",
      " 14  cons_alcohol                     2111 non-null   int64  \n",
      " 15  MTRANS                           2111 non-null   int64  \n",
      " 16  NObeyesdad                       2111 non-null   object \n",
      "dtypes: float64(8), int64(8), object(1)\n",
      "memory usage: 280.5+ KB\n"
     ]
    }
   ],
   "source": [
    "df1.info()"
   ]
  },
  {
   "cell_type": "markdown",
   "id": "fe6f688d",
   "metadata": {},
   "source": [
    "## Modele"
   ]
  },
  {
   "cell_type": "code",
   "execution_count": 6,
   "id": "8fe0c86c",
   "metadata": {},
   "outputs": [
    {
     "data": {
      "text/plain": [
       "2111"
      ]
     },
     "execution_count": 6,
     "metadata": {},
     "output_type": "execute_result"
    }
   ],
   "source": [
    "len(df1)"
   ]
  },
  {
   "cell_type": "code",
   "execution_count": 7,
   "id": "55174905",
   "metadata": {},
   "outputs": [],
   "source": [
    "import seaborn as sns\n",
    "import pandas as pd\n",
    "import numpy as np\n",
    "import matplotlib.pyplot as plt\n",
    "\n",
    "from sklearn.neighbors import KNeighborsClassifier\n",
    "model = KNeighborsClassifier()"
   ]
  },
  {
   "cell_type": "code",
   "execution_count": 8,
   "id": "de647306",
   "metadata": {},
   "outputs": [],
   "source": [
    "X = df1.drop('NObeyesdad', 1)\n",
    "Y=df1['NObeyesdad']"
   ]
  },
  {
   "cell_type": "code",
   "execution_count": 9,
   "id": "09606c86",
   "metadata": {},
   "outputs": [
    {
     "data": {
      "text/plain": [
       "0             Normal_Weight\n",
       "1             Normal_Weight\n",
       "2             Normal_Weight\n",
       "3        Overweight_Level_I\n",
       "4       Overweight_Level_II\n",
       "               ...         \n",
       "2106       Obesity_Type_III\n",
       "2107       Obesity_Type_III\n",
       "2108       Obesity_Type_III\n",
       "2109       Obesity_Type_III\n",
       "2110       Obesity_Type_III\n",
       "Name: NObeyesdad, Length: 2111, dtype: object"
      ]
     },
     "execution_count": 9,
     "metadata": {},
     "output_type": "execute_result"
    }
   ],
   "source": [
    "Y"
   ]
  },
  {
   "cell_type": "code",
   "execution_count": 10,
   "id": "bf84de74",
   "metadata": {},
   "outputs": [
    {
     "data": {
      "text/plain": [
       "0.9204168640454761"
      ]
     },
     "execution_count": 10,
     "metadata": {},
     "output_type": "execute_result"
    }
   ],
   "source": [
    "model.fit(X,Y)\n",
    "model.score(X,Y)"
   ]
  },
  {
   "cell_type": "code",
   "execution_count": 11,
   "id": "87bcff88",
   "metadata": {
    "scrolled": false
   },
   "outputs": [
    {
     "data": {
      "text/plain": [
       "array(['Overweight_Level_II', 'Insufficient_Weight', 'Overweight_Level_I',\n",
       "       ..., 'Obesity_Type_III', 'Obesity_Type_III', 'Obesity_Type_III'],\n",
       "      dtype=object)"
      ]
     },
     "execution_count": 11,
     "metadata": {},
     "output_type": "execute_result"
    }
   ],
   "source": [
    "model.predict(X)"
   ]
  },
  {
   "cell_type": "code",
   "execution_count": 12,
   "id": "502eac69",
   "metadata": {
    "scrolled": true
   },
   "outputs": [
    {
     "name": "stdout",
     "output_type": "stream",
     "text": [
      "1\n",
      "1.0\n"
     ]
    },
    {
     "data": {
      "text/plain": [
       "[<matplotlib.lines.Line2D at 0x15404803370>]"
      ]
     },
     "execution_count": 12,
     "metadata": {},
     "output_type": "execute_result"
    },
    {
     "data": {
      "image/png": "[encoded data removed]",
      "text/plain": [
       "<Figure size 432x288 with 1 Axes>"
      ]
     },
     "metadata": {
      "needs_background": "light"
     },
     "output_type": "display_data"
    }
   ],
   "source": [
    "scores=[]\n",
    "best_k = 1\n",
    "best_score = 0\n",
    "\n",
    "for k in range(best_k, 30):\n",
    "    model = KNeighborsClassifier(n_neighbors = k)\n",
    "    model.fit(X,Y)\n",
    "    scores.append(model.score(X,Y))\n",
    "    if best_score < model.score(X,Y):\n",
    "        best_k=k\n",
    "        best_score=model.score(X,Y)\n",
    "        \n",
    "print(best_k)\n",
    "print(best_score)\n",
    "plt.plot(scores)"
   ]
  },
  {
   "cell_type": "markdown",
   "id": "e8638d20",
   "metadata": {},
   "source": [
    "## 2e modele"
   ]
  },
  {
   "cell_type": "code",
   "execution_count": 13,
   "id": "86462d7f",
   "metadata": {},
   "outputs": [],
   "source": [
    "df2=df1.copy()\n",
    "\n",
    "df2['NObeyesdad'] = df2['NObeyesdad'].map({'Insufficient_Weight':0,\n",
    "                             'Normal_Weight':1,'Overweight_Level_I':2,\n",
    "                             'Overweight_Level_II':3,'Obesity_Type_I':4,\n",
    "                            'Obesity_Type_II':5,'Obesity_Type_III':6},na_action=None)"
   ]
  },
  {
   "cell_type": "code",
   "execution_count": 14,
   "id": "e88d3aab",
   "metadata": {},
   "outputs": [],
   "source": [
    "from sklearn import datasets\n",
    "from sklearn.model_selection import train_test_split\n",
    "import numpy as np"
   ]
  },
  {
   "cell_type": "code",
   "execution_count": 15,
   "id": "53924ab0",
   "metadata": {},
   "outputs": [],
   "source": [
    "train=df2.sample(frac=0.66,random_state=200) #random state is a seed value\n",
    "test=df2.drop(train.index)\n",
    "\n",
    "X_train = train.drop('NObeyesdad', 1)\n",
    "Y_train=train['NObeyesdad']\n",
    "X_test = test.drop('NObeyesdad', 1)\n",
    "Y_test=test['NObeyesdad']"
   ]
  },
  {
   "cell_type": "code",
   "execution_count": 16,
   "id": "61c6425f",
   "metadata": {},
   "outputs": [
    {
     "data": {
      "text/plain": [
       "array([0.95515456, 0.9464166 , 0.93267835, 0.95170362, 0.9508982 ])"
      ]
     },
     "execution_count": 16,
     "metadata": {},
     "output_type": "execute_result"
    }
   ],
   "source": [
    "from sklearn import svm\n",
    "svr = svm.SVR(kernel='linear')\n",
    "\n",
    "from sklearn.model_selection import  cross_val_score\n",
    "cross_val_score(svr, X_train, Y_train)"
   ]
  },
  {
   "cell_type": "code",
   "execution_count": 17,
   "id": "9acd1fed",
   "metadata": {},
   "outputs": [
    {
     "name": "stdout",
     "output_type": "stream",
     "text": [
      "0.93882863323461 SVR(gamma=0.01)\n"
     ]
    }
   ],
   "source": [
    "from sklearn.model_selection import GridSearchCV\n",
    "parameters = {  'gamma' : [0.01, 0.1, 0.5]           }\n",
    "grid       = GridSearchCV(svm.SVR(), parameters, n_jobs=-1, cv=5)\n",
    "grid.fit(X_train, Y_train)\n",
    "print (grid.best_score_, grid.best_estimator_)"
   ]
  },
  {
   "cell_type": "code",
   "execution_count": 18,
   "id": "42a661e0",
   "metadata": {},
   "outputs": [
    {
     "data": {
      "text/plain": [
       "0.9558451041120604"
      ]
     },
     "execution_count": 18,
     "metadata": {},
     "output_type": "execute_result"
    }
   ],
   "source": [
    "grid.score(X_test,Y_test)"
   ]
  },
  {
   "cell_type": "markdown",
   "id": "9888e58c",
   "metadata": {},
   "source": [
    "### Affiner le grid search"
   ]
  },
  {
   "cell_type": "code",
   "execution_count": 19,
   "id": "9b2a84c2",
   "metadata": {},
   "outputs": [
    {
     "name": "stdout",
     "output_type": "stream",
     "text": [
      "0.9395205195516579 SVR(C=1.5, gamma=0.1)\n"
     ]
    }
   ],
   "source": [
    "parameters = {  'C'      : [0.5, 1, 1.5]             ,\n",
    "                'gamma'  : [0.5, 0.1, 0.15]      }\n",
    "grid = GridSearchCV(svm.SVR(), parameters, n_jobs=-1)\n",
    "grid.fit(X_train, Y_train)\n",
    "print (grid.best_score_, grid.best_estimator_)"
   ]
  },
  {
   "cell_type": "code",
   "execution_count": 20,
   "id": "c98a26b6",
   "metadata": {},
   "outputs": [
    {
     "data": {
      "text/plain": [
       "0.9579137375416337"
      ]
     },
     "execution_count": 20,
     "metadata": {},
     "output_type": "execute_result"
    }
   ],
   "source": [
    "grid.score(X_test,Y_test)"
   ]
  },
  {
   "cell_type": "code",
   "execution_count": 21,
   "id": "9b00104d",
   "metadata": {},
   "outputs": [
    {
     "data": {
      "text/plain": [
       "\"\\nparameters = {  'C'      : [1.5, 2, 2.5]   ,\\n                'kernel' : ['rbf', 'poly', 'sigmoid'],\\n                'gamma'  : [ 0.05, 0.10, 0.15] }\\ngrid = GridSearchCV(svm.SVR(), parameters, n_jobs=-1)\\ngrid.fit(X_train, Y_train)\\nprint (grid.best_score_, grid.best_estimator_)\\n\""
      ]
     },
     "execution_count": 21,
     "metadata": {},
     "output_type": "execute_result"
    }
   ],
   "source": [
    "'''\n",
    "parameters = {  'C'      : [1.5, 2, 2.5]   ,\n",
    "                'kernel' : ['rbf', 'poly', 'sigmoid'],\n",
    "                'gamma'  : [ 0.05, 0.10, 0.15] }\n",
    "grid = GridSearchCV(svm.SVR(), parameters, n_jobs=-1)\n",
    "grid.fit(X_train, Y_train)\n",
    "print (grid.best_score_, grid.best_estimator_)\n",
    "'''"
   ]
  },
  {
   "cell_type": "code",
   "execution_count": 22,
   "id": "fc91d6bc",
   "metadata": {},
   "outputs": [
    {
     "data": {
      "text/plain": [
       "'\\nparameters = {  \\'C\\'       : [2.5, 3, 4]   ,\\n                \\'kernel\\'  : [\\'rbf\\', \\'poly\\', \\'sigmoid\\'],\\n                \\'gamma\\'   : [ 0.01, 0.05, 0.07],\\n                 \"degree\" : [1,3,5]}\\ngrid = GridSearchCV(svm.SVR(), parameters, n_jobs=-1)\\ngrid.fit(X_train, Y_train)\\nprint (grid.best_score_, grid.best_estimator_)\\n'"
      ]
     },
     "execution_count": 22,
     "metadata": {},
     "output_type": "execute_result"
    }
   ],
   "source": [
    "'''\n",
    "parameters = {  'C'       : [2.5, 3, 4]   ,\n",
    "                'kernel'  : ['rbf', 'poly', 'sigmoid'],\n",
    "                'gamma'   : [ 0.01, 0.05, 0.07],\n",
    "                 \"degree\" : [1,3,5]}\n",
    "grid = GridSearchCV(svm.SVR(), parameters, n_jobs=-1)\n",
    "grid.fit(X_train, Y_train)\n",
    "print (grid.best_score_, grid.best_estimator_)\n",
    "'''"
   ]
  },
  {
   "cell_type": "markdown",
   "id": "c28d7d30",
   "metadata": {},
   "source": [
    "# Modeles sans poids et taille"
   ]
  },
  {
   "cell_type": "code",
   "execution_count": 23,
   "id": "d54371dd",
   "metadata": {},
   "outputs": [],
   "source": [
    "df3=df2.copy()\n",
    "df3=df3.drop('Height',1)\n",
    "df3=df3.drop('Weight',1)"
   ]
  },
  {
   "cell_type": "code",
   "execution_count": 24,
   "id": "c253aacd",
   "metadata": {},
   "outputs": [],
   "source": [
    "train=df3.sample(frac=0.66,random_state=200) #random state is a seed value\n",
    "test=df3.drop(train.index)\n",
    "\n",
    "X_train = train.drop('NObeyesdad', 1)\n",
    "Y_train=train['NObeyesdad']\n",
    "X_test = test.drop('NObeyesdad', 1)\n",
    "Y_test=test['NObeyesdad']"
   ]
  },
  {
   "cell_type": "code",
   "execution_count": 25,
   "id": "2c29fc0e",
   "metadata": {},
   "outputs": [],
   "source": [
    "def score(model):\n",
    "    score=0\n",
    "    for i in range(len(X_test)):\n",
    "        p=round(float(model.predict(X_test.iloc[i:i+1,])),0)\n",
    "        if (p==int(Y_test.iloc[i:i+1,])):\n",
    "            score+=1\n",
    "\n",
    "    return round((score/len(X_test))*100,2)"
   ]
  },
  {
   "cell_type": "code",
   "execution_count": 26,
   "id": "52e8be96",
   "metadata": {},
   "outputs": [],
   "source": [
    "Lscores=[]"
   ]
  },
  {
   "cell_type": "markdown",
   "id": "790746cd",
   "metadata": {},
   "source": [
    "## SVM/ GridSearch"
   ]
  },
  {
   "cell_type": "code",
   "execution_count": 27,
   "id": "40a1f6c5",
   "metadata": {},
   "outputs": [
    {
     "data": {
      "text/plain": [
       "array([0.43019168, 0.41609745, 0.37117483, 0.36480696, 0.39917349])"
      ]
     },
     "execution_count": 27,
     "metadata": {},
     "output_type": "execute_result"
    }
   ],
   "source": [
    "from sklearn import svm\n",
    "svr = svm.SVR(kernel='linear')\n",
    "\n",
    "from sklearn.model_selection import  cross_val_score\n",
    "cross_val_score(svr, X_train, Y_train)"
   ]
  },
  {
   "cell_type": "markdown",
   "id": "bea28f52",
   "metadata": {},
   "source": [
    "### 1 param"
   ]
  },
  {
   "cell_type": "code",
   "execution_count": 28,
   "id": "86206bcd",
   "metadata": {},
   "outputs": [
    {
     "data": {
      "text/plain": [
       "84.02"
      ]
     },
     "execution_count": 28,
     "metadata": {},
     "output_type": "execute_result"
    }
   ],
   "source": [
    "from sklearn.model_selection import GridSearchCV\n",
    "parameters = {  'gamma' : [0.01, 0.1, 0.5]           }\n",
    "grid       = GridSearchCV(svm.SVR(), parameters, n_jobs=-1, cv=5)\n",
    "grid.fit(X_train, Y_train)\n",
    "#print (grid.best_score_, grid.best_estimator_)\n",
    "\n",
    "round(grid.score(X_test,Y_test)*100,2)"
   ]
  },
  {
   "cell_type": "code",
   "execution_count": 29,
   "id": "1788757e",
   "metadata": {},
   "outputs": [],
   "source": [
    "score(grid)\n",
    "Lscores.append(score(grid))"
   ]
  },
  {
   "cell_type": "markdown",
   "id": "788c65a2",
   "metadata": {},
   "source": [
    "### 2 param"
   ]
  },
  {
   "cell_type": "code",
   "execution_count": 30,
   "id": "8b5250a7",
   "metadata": {},
   "outputs": [
    {
     "data": {
      "text/plain": [
       "84.78"
      ]
     },
     "execution_count": 30,
     "metadata": {},
     "output_type": "execute_result"
    }
   ],
   "source": [
    "parameters = {  'C'      : [0.5, 1, 1.5]             ,\n",
    "                'gamma'  : [0.5, 0.1, 0.15]      }\n",
    "grid = GridSearchCV(svm.SVR(), parameters, n_jobs=-1)\n",
    "grid.fit(X_train, Y_train)\n",
    "#print (grid.best_score_, grid.best_estimator_)\n",
    "\n",
    "round(grid.score(X_test,Y_test)*100,2)"
   ]
  },
  {
   "cell_type": "code",
   "execution_count": 31,
   "id": "cb0b3c27",
   "metadata": {},
   "outputs": [],
   "source": [
    "score(grid)\n",
    "Lscores.append(score(grid))"
   ]
  },
  {
   "cell_type": "markdown",
   "id": "3e76ddaa",
   "metadata": {},
   "source": [
    "### 3 param"
   ]
  },
  {
   "cell_type": "code",
   "execution_count": 32,
   "id": "6418f02a",
   "metadata": {},
   "outputs": [
    {
     "data": {
      "text/plain": [
       "\"\\nparameters = {  'C'      : [1.5, 2, 2.5]   ,\\n                'kernel' : ['rbf', 'poly', 'sigmoid'],\\n                'gamma'  : [ 0.05, 0.10, 0.15] }\\ngrid = GridSearchCV(svm.SVR(), parameters, n_jobs=-1)\\ngrid.fit(X_train, Y_train)\\n#print (grid.best_score_, grid.best_estimator_)\\n\\ngrid.score(X_test,Y_test)\\n\""
      ]
     },
     "execution_count": 32,
     "metadata": {},
     "output_type": "execute_result"
    }
   ],
   "source": [
    "'''\n",
    "parameters = {  'C'      : [1.5, 2, 2.5]   ,\n",
    "                'kernel' : ['rbf', 'poly', 'sigmoid'],\n",
    "                'gamma'  : [ 0.05, 0.10, 0.15] }\n",
    "grid = GridSearchCV(svm.SVR(), parameters, n_jobs=-1)\n",
    "grid.fit(X_train, Y_train)\n",
    "#print (grid.best_score_, grid.best_estimator_)\n",
    "\n",
    "grid.score(X_test,Y_test)\n",
    "'''"
   ]
  },
  {
   "cell_type": "markdown",
   "id": "125b9891",
   "metadata": {},
   "source": [
    "## Bagging"
   ]
  },
  {
   "cell_type": "code",
   "execution_count": 33,
   "id": "fe7e2676",
   "metadata": {},
   "outputs": [
    {
     "name": "stdout",
     "output_type": "stream",
     "text": [
      "87.3\n"
     ]
    }
   ],
   "source": [
    "from sklearn.ensemble import BaggingRegressor\n",
    "res=0\n",
    "sc=0\n",
    "for i in range(10):\n",
    "    algorithme = BaggingRegressor()\n",
    "    algorithme.fit(X_train, Y_train)\n",
    "    performance = algorithme.score(X_test, Y_test)\n",
    "    sc+=score(algorithme)\n",
    "    res+=performance\n",
    "    \n",
    "print(round((res/10)*100,2))"
   ]
  },
  {
   "cell_type": "code",
   "execution_count": 34,
   "id": "40444869",
   "metadata": {},
   "outputs": [],
   "source": [
    "round(sc/10,2)\n",
    "Lscores.append(round(sc/10,2))"
   ]
  },
  {
   "cell_type": "markdown",
   "id": "2dbc9912",
   "metadata": {},
   "source": [
    "## Adaboost"
   ]
  },
  {
   "cell_type": "code",
   "execution_count": 35,
   "id": "216ea441",
   "metadata": {},
   "outputs": [
    {
     "data": {
      "text/plain": [
       "36.63"
      ]
     },
     "execution_count": 35,
     "metadata": {},
     "output_type": "execute_result"
    }
   ],
   "source": [
    "from sklearn.ensemble import AdaBoostClassifier\n",
    "algorithme = AdaBoostClassifier(n_estimators=50,learning_rate=1)\n",
    "algorithme.fit(X_train, Y_train)\n",
    "round(algorithme.score(X_test, Y_test)*100,2)"
   ]
  },
  {
   "cell_type": "code",
   "execution_count": 36,
   "id": "5c887e77",
   "metadata": {},
   "outputs": [],
   "source": [
    "score(algorithme)\n",
    "Lscores.append(score(algorithme))"
   ]
  },
  {
   "cell_type": "markdown",
   "id": "327c1a17",
   "metadata": {},
   "source": [
    "## Extra tree"
   ]
  },
  {
   "cell_type": "code",
   "execution_count": 37,
   "id": "12ea234a",
   "metadata": {},
   "outputs": [
    {
     "data": {
      "text/plain": [
       "86.35"
      ]
     },
     "execution_count": 37,
     "metadata": {},
     "output_type": "execute_result"
    }
   ],
   "source": [
    "from sklearn.ensemble import ExtraTreesClassifier\n",
    "algorithme = ExtraTreesClassifier(n_estimators=100, random_state=0)\n",
    "algorithme.fit(X_train, Y_train)\n",
    "round(algorithme.score(X_test, Y_test)*100,2)"
   ]
  },
  {
   "cell_type": "code",
   "execution_count": 38,
   "id": "ac12f397",
   "metadata": {},
   "outputs": [],
   "source": [
    "score(algorithme)\n",
    "Lscores.append(score(algorithme))"
   ]
  },
  {
   "cell_type": "markdown",
   "id": "90d9337b",
   "metadata": {},
   "source": [
    "## Gradient boosting"
   ]
  },
  {
   "cell_type": "code",
   "execution_count": 39,
   "id": "82c30ea8",
   "metadata": {},
   "outputs": [
    {
     "data": {
      "text/plain": [
       "63.48"
      ]
     },
     "execution_count": 39,
     "metadata": {},
     "output_type": "execute_result"
    }
   ],
   "source": [
    "from sklearn.ensemble import GradientBoostingRegressor\n",
    "algorithme = GradientBoostingRegressor(max_depth=1)\n",
    "algorithme.fit(X_train, Y_train)\n",
    "round(algorithme.score(X_test, Y_test)*100,2)"
   ]
  },
  {
   "cell_type": "code",
   "execution_count": 40,
   "id": "6df1995d",
   "metadata": {},
   "outputs": [],
   "source": [
    "score(algorithme)\n",
    "Lscores.append(score(algorithme))"
   ]
  },
  {
   "cell_type": "markdown",
   "id": "077cc5c6",
   "metadata": {},
   "source": [
    "## Random forest"
   ]
  },
  {
   "cell_type": "code",
   "execution_count": 41,
   "id": "d66118eb",
   "metadata": {},
   "outputs": [
    {
     "data": {
      "text/plain": [
       "58.22"
      ]
     },
     "execution_count": 41,
     "metadata": {},
     "output_type": "execute_result"
    }
   ],
   "source": [
    "from sklearn.ensemble import RandomForestClassifier\n",
    "algorithme = RandomForestClassifier(max_depth=2, random_state=0)\n",
    "algorithme.fit(X_train, Y_train)\n",
    "round(algorithme.score(X_test, Y_test)*100,2)"
   ]
  },
  {
   "cell_type": "code",
   "execution_count": 42,
   "id": "71cf17ec",
   "metadata": {},
   "outputs": [],
   "source": [
    "score(algorithme)\n",
    "Lscores.append(score(algorithme))"
   ]
  },
  {
   "cell_type": "markdown",
   "id": "d3e2e8e4",
   "metadata": {},
   "source": [
    "## Knn"
   ]
  },
  {
   "cell_type": "code",
   "execution_count": 43,
   "id": "afcbf58a",
   "metadata": {},
   "outputs": [
    {
     "data": {
      "text/plain": [
       "75.91"
      ]
     },
     "execution_count": 43,
     "metadata": {},
     "output_type": "execute_result"
    }
   ],
   "source": [
    "from sklearn.neighbors import KNeighborsClassifier\n",
    "model = KNeighborsClassifier()\n",
    "model.fit(X_train, Y_train)\n",
    "round(model.score(X_test, Y_test)*100,2)"
   ]
  },
  {
   "cell_type": "code",
   "execution_count": 44,
   "id": "be0bc6eb",
   "metadata": {
    "scrolled": true
   },
   "outputs": [],
   "source": [
    "score(algorithme)\n",
    "Lscores.append(score(algorithme))"
   ]
  },
  {
   "cell_type": "markdown",
   "id": "b18ca79c",
   "metadata": {},
   "source": [
    "## Predictions"
   ]
  },
  {
   "cell_type": "code",
   "execution_count": 45,
   "id": "0c3a6788",
   "metadata": {},
   "outputs": [],
   "source": [
    "def Predictions(X):\n",
    "    L=algorithme.predict(X)\n",
    "    return [round(i,0) for i in L]"
   ]
  },
  {
   "cell_type": "code",
   "execution_count": 46,
   "id": "76234cc3",
   "metadata": {},
   "outputs": [
    {
     "data": {
      "text/plain": [
       "8"
      ]
     },
     "execution_count": 46,
     "metadata": {},
     "output_type": "execute_result"
    }
   ],
   "source": [
    "len(Lscores)"
   ]
  },
  {
   "cell_type": "markdown",
   "id": "a0ecdd15",
   "metadata": {},
   "source": [
    "## Comparaison modeles"
   ]
  },
  {
   "cell_type": "code",
   "execution_count": 49,
   "id": "86f34cbc",
   "metadata": {
    "scrolled": true
   },
   "outputs": [
    {
     "ename": "ModuleNotFoundError",
     "evalue": "No module named 'bokeh.charts'",
     "output_type": "error",
     "traceback": [
      "\u001b[1;31m---------------------------------------------------------------------------\u001b[0m",
      "\u001b[1;31mModuleNotFoundError\u001b[0m                       Traceback (most recent call last)",
      "\u001b[1;32m<ipython-input-49-bd0a90678f3d>\u001b[0m in \u001b[0;36m<module>\u001b[1;34m\u001b[0m\n\u001b[0;32m      3\u001b[0m \u001b[1;32mfrom\u001b[0m \u001b[0mbokeh\u001b[0m\u001b[1;33m.\u001b[0m\u001b[0mpalettes\u001b[0m \u001b[1;32mimport\u001b[0m \u001b[0mSpectral6\u001b[0m\u001b[1;33m\u001b[0m\u001b[1;33m\u001b[0m\u001b[0m\n\u001b[0;32m      4\u001b[0m \u001b[1;32mfrom\u001b[0m \u001b[0mbokeh\u001b[0m\u001b[1;33m.\u001b[0m\u001b[0mplotting\u001b[0m \u001b[1;32mimport\u001b[0m \u001b[0mfigure\u001b[0m\u001b[1;33m\u001b[0m\u001b[1;33m\u001b[0m\u001b[0m\n\u001b[1;32m----> 5\u001b[1;33m \u001b[1;32mfrom\u001b[0m \u001b[0mbokeh\u001b[0m\u001b[1;33m.\u001b[0m\u001b[0mcharts\u001b[0m \u001b[1;32mimport\u001b[0m \u001b[0mdefaults\u001b[0m\u001b[1;33m\u001b[0m\u001b[1;33m\u001b[0m\u001b[0m\n\u001b[0m\u001b[0;32m      6\u001b[0m \u001b[1;33m\u001b[0m\u001b[0m\n\u001b[0;32m      7\u001b[0m \u001b[0mdefaults\u001b[0m\u001b[1;33m.\u001b[0m\u001b[0mwidth\u001b[0m \u001b[1;33m=\u001b[0m \u001b[1;36m450\u001b[0m\u001b[1;33m\u001b[0m\u001b[1;33m\u001b[0m\u001b[0m\n",
      "\u001b[1;31mModuleNotFoundError\u001b[0m: No module named 'bokeh.charts'"
     ]
    }
   ],
   "source": [
    "from bokeh.io import output_notebook, show\n",
    "from bokeh.models import ColumnDataSource\n",
    "from bokeh.palettes import Spectral6\n",
    "from bokeh.plotting import figure\n",
    "from bokeh.charts import defaults\n",
    "\n",
    "defaults.width = 450\n",
    "defaults.height = 350\n",
    "\n",
    "output_notebook()\n",
    "\n",
    "modeles = ['SVM 1 parameter','SVM 2 parameter','Bagging','Adaboost','Extra tree','Gradient boosting','Random forest','KNN']\n",
    "\n",
    "colors=list(Spectral6)\n",
    "colors.append('#ff33fc')\n",
    "colors.append('#ff33ac')\n",
    "\n",
    "source = ColumnDataSource(data=dict(modeles=modeles, Lscores=Lscores, color=colors))\n",
    "\n",
    "p = figure(x_range=modeles, y_range=(0,100), height=250, title=\"Model Comparative\",\n",
    "           toolbar_location=None, tools=\"\")\n",
    "\n",
    "p.vbar(x='Model', top='Accuracy', width=1, color='color', legend_field=\"modeles\", source=source)\n",
    "\n",
    "p.xgrid.grid_line_color = None\n",
    "p.legend.orientation = \"horizontal\"\n",
    "p.legend.location = \"top_center\"\n",
    "\n",
    "show(p)"
   ]
  },
  {
   "cell_type": "code",
   "execution_count": 57,
   "id": "7db849c0",
   "metadata": {},
   "outputs": [
    {
     "ename": "NameError",
     "evalue": "name 'xlocs' is not defined",
     "output_type": "error",
     "traceback": [
      "\u001b[1;31m---------------------------------------------------------------------------\u001b[0m",
      "\u001b[1;31mNameError\u001b[0m                                 Traceback (most recent call last)",
      "\u001b[1;32m<ipython-input-57-0f32a3da6b16>\u001b[0m in \u001b[0;36m<module>\u001b[1;34m\u001b[0m\n\u001b[0;32m      5\u001b[0m \u001b[0max\u001b[0m\u001b[1;33m.\u001b[0m\u001b[0mbar\u001b[0m\u001b[1;33m(\u001b[0m\u001b[0mmodeles\u001b[0m\u001b[1;33m,\u001b[0m\u001b[0mLscores\u001b[0m\u001b[1;33m)\u001b[0m\u001b[1;33m\u001b[0m\u001b[1;33m\u001b[0m\u001b[0m\n\u001b[0;32m      6\u001b[0m \u001b[1;32mfor\u001b[0m \u001b[0mi\u001b[0m\u001b[1;33m,\u001b[0m \u001b[0mv\u001b[0m \u001b[1;32min\u001b[0m \u001b[0menumerate\u001b[0m\u001b[1;33m(\u001b[0m\u001b[0mLscores\u001b[0m\u001b[1;33m)\u001b[0m\u001b[1;33m:\u001b[0m\u001b[1;33m\u001b[0m\u001b[1;33m\u001b[0m\u001b[0m\n\u001b[1;32m----> 7\u001b[1;33m     \u001b[0mplt\u001b[0m\u001b[1;33m.\u001b[0m\u001b[0mtext\u001b[0m\u001b[1;33m(\u001b[0m\u001b[0mxlocs\u001b[0m\u001b[1;33m[\u001b[0m\u001b[0mi\u001b[0m\u001b[1;33m]\u001b[0m \u001b[1;33m-\u001b[0m \u001b[1;36m0.25\u001b[0m\u001b[1;33m,\u001b[0m \u001b[0mv\u001b[0m \u001b[1;33m+\u001b[0m \u001b[1;36m0.01\u001b[0m\u001b[1;33m,\u001b[0m \u001b[0mstr\u001b[0m\u001b[1;33m(\u001b[0m\u001b[0mv\u001b[0m\u001b[1;33m)\u001b[0m\u001b[1;33m)\u001b[0m\u001b[1;33m\u001b[0m\u001b[1;33m\u001b[0m\u001b[0m\n\u001b[0m\u001b[0;32m      8\u001b[0m \u001b[0mplt\u001b[0m\u001b[1;33m.\u001b[0m\u001b[0mshow\u001b[0m\u001b[1;33m(\u001b[0m\u001b[1;33m)\u001b[0m\u001b[1;33m\u001b[0m\u001b[1;33m\u001b[0m\u001b[0m\n",
      "\u001b[1;31mNameError\u001b[0m: name 'xlocs' is not defined"
     ]
    },
    {
     "data": {
      "image/png": "[encoded data removed]",
      "text/plain": [
       "<Figure size 1120x400 with 1 Axes>"
      ]
     },
     "metadata": {
      "needs_background": "light"
     },
     "output_type": "display_data"
    }
   ],
   "source": [
    "import matplotlib.pyplot as plt\n",
    "fig = plt.figure(figsize=(14, 5), dpi=80)\n",
    "ax = fig.add_axes([0,0,1,1])\n",
    "modeles = ['SVM 1 parameter','SVM 2 parameter','Bagging','Adaboost','Extra tree','Gradient boosting','Random forest','KNN']\n",
    "ax.bar(modeles,Lscores)\n",
    "for i, v in enumerate(Lscores):\n",
    "    plt.text(xlocs[i] - 0.25, v + 0.01, str(v))\n",
    "plt.show()"
   ]
  },
  {
   "cell_type": "code",
   "execution_count": null,
   "id": "7b91a649",
   "metadata": {
    "scrolled": true
   },
   "outputs": [],
   "source": [
    "from bokeh.io import output_notebook, show\n",
    "from bokeh.models import ColumnDataSource\n",
    "from bokeh.palettes import Spectral6\n",
    "from bokeh.plotting import figure\n",
    "\n",
    "output_notebook()\n",
    "\n",
    "fruits = ['Apples', 'Pears', 'Nectarines', 'Plums', 'Grapes', 'Strawberries']\n",
    "counts = [5, 3, 4, 2, 4, 6]\n",
    "\n",
    "source = ColumnDataSource(data=dict(fruits=fruits, counts=counts, color=Spectral6))\n",
    "\n",
    "p = figure(x_range=fruits, y_range=(0,9), height=250, title=\"Fruit counts\",\n",
    "           toolbar_location=None, tools=\"\")\n",
    "\n",
    "p.vbar(x='fruits', top='counts', width=0.9, color='color', legend_field=\"fruits\", source=source)\n",
    "\n",
    "p.xgrid.grid_line_color = None\n",
    "p.legend.orientation = \"horizontal\"\n",
    "p.legend.location = \"top_center\"\n",
    "\n",
    "show(p)"
   ]
  },
  {
   "cell_type": "code",
   "execution_count": null,
   "id": "9d376cf7",
   "metadata": {},
   "outputs": [],
   "source": [
    "color"
   ]
  }
 ],
 "metadata": {
  "kernelspec": {
   "display_name": "Python 3",
   "language": "python",
   "name": "python3"
  },
  "language_info": {
   "codemirror_mode": {
    "name": "ipython",
    "version": 3
   },
   "file_extension": ".py",
   "mimetype": "text/x-python",
   "name": "python",
   "nbconvert_exporter": "python",
   "pygments_lexer": "ipython3",
   "version": "3.8.8"
  }
 },
 "nbformat": 4,
 "nbformat_minor": 5
}
